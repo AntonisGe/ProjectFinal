{
  "nbformat": 4,
  "nbformat_minor": 0,
  "metadata": {
    "colab": {
      "name": "Untitled1.ipynb",
      "provenance": [],
      "collapsed_sections": []
    },
    "kernelspec": {
      "name": "python3",
      "display_name": "Python 3"
    }
  },
  "cells": [
    {
      "cell_type": "code",
      "metadata": {
        "id": "XbYpBhr3bnPC",
        "colab_type": "code",
        "colab": {}
      },
      "source": [
        "import pandas as pd\n",
        "import requests\n",
        "from geopy.geocoders import Nominatim\n",
        "import numpy as np\n",
        "CLIENT_ID = 'XUA4FYSCWVWXUAA4S0AQXMHX3ELRP00BSXRDWVG0JRKMDNRF'\n",
        "CLIENT_SECRET = 'MZ34S1OZWYVH1MDOAZKYCJPP0HLQVBIWOUFI1ZHEYHJVY2PW'\n",
        "VERSION = '20191231'"
      ],
      "execution_count": 0,
      "outputs": []
    },
    {
      "cell_type": "markdown",
      "metadata": {
        "id": "TN9q38WicIYC",
        "colab_type": "text"
      },
      "source": [
        "#Objective: Find if opening a cafe next to a competitor is a good idea"
      ]
    },
    {
      "cell_type": "markdown",
      "metadata": {
        "id": "m6k4eWsucLe_",
        "colab_type": "text"
      },
      "source": [
        "#Part 1: Data Collection"
      ]
    },
    {
      "cell_type": "markdown",
      "metadata": {
        "id": "rAaxE7OhcN0Q",
        "colab_type": "text"
      },
      "source": [
        "## Step 1: define all the functions that will give us the requests from Foursquare"
      ]
    },
    {
      "cell_type": "code",
      "metadata": {
        "id": "LF3F8v5QcI1V",
        "colab_type": "code",
        "colab": {}
      },
      "source": [
        "def explore(lat,lng,rad=500,query='cafe',limit=100,sortP=0,sortD=0):\n",
        "  url = 'https://api.foursquare.com/v2/venues/explore?&client_id={}&client_secret={}&v={}&ll={},{}&radius={}&limit={}&query={}&sortByPopularity={}&sortByDistance={}'.format(\n",
        "              CLIENT_ID, \n",
        "              CLIENT_SECRET, \n",
        "              VERSION, \n",
        "              lat, \n",
        "              lng, \n",
        "              rad,\n",
        "              limit, \n",
        "              query,\n",
        "              sortP,\n",
        "              sortD)\n",
        "  a=requests.get(url).json()\n",
        "  a=a['response']['groups'][0]['items']\n",
        "  return(a)\n",
        "\n",
        "#This function will return the explores around lat,lng.\n",
        "#[0]['venue']['location']['lat']\n",
        "#[0]['venue']['location']['lng']\n",
        "#[0]['venue']['name']\n",
        "#[0]['venue']['id']"
      ],
      "execution_count": 0,
      "outputs": []
    },
    {
      "cell_type": "code",
      "metadata": {
        "id": "aDwtIu1NcP2n",
        "colab_type": "code",
        "colab": {}
      },
      "source": [
        "def recommend(id):\n",
        "  url='https://api.foursquare.com/v2/venues/{}/likes?&client_id={}&client_secret={}&v={}'.format(\n",
        "      id,CLIENT_ID,CLIENT_SECRET,VERSION)\n",
        "  d=requests.get(url).json()\n",
        "  d=d['response']['likes']['count']\n",
        "  return(d)"
      ],
      "execution_count": 0,
      "outputs": []
    },
    {
      "cell_type": "code",
      "metadata": {
        "id": "KfBcLU0AcRnw",
        "colab_type": "code",
        "colab": {}
      },
      "source": [
        "def coordinates(neighborhood):\n",
        "  geolocator = Nominatim(timeout=3)\n",
        "  location = geolocator.geocode(neighborhood + ',Athens,Greece')\n",
        "  return(location.latitude,location.longitude)"
      ],
      "execution_count": 0,
      "outputs": []
    },
    {
      "cell_type": "markdown",
      "metadata": {
        "id": "VE00Z2QLcbDL",
        "colab_type": "text"
      },
      "source": [
        "## Step 2: Find the neighborhoods"
      ]
    },
    {
      "cell_type": "code",
      "metadata": {
        "id": "_E-umNaNcTkg",
        "colab_type": "code",
        "colab": {}
      },
      "source": [
        "neigh=pd.read_html('https://www.citypopulation.de/php/greece-athens.php') # website with all neighborhoods of athens"
      ],
      "execution_count": 0,
      "outputs": []
    },
    {
      "cell_type": "code",
      "metadata": {
        "id": "ldnsAeE4cV52",
        "colab_type": "code",
        "colab": {}
      },
      "source": [
        "neigh1=neigh[0]['Name'].apply(lambda x: x.split('[')[1])"
      ],
      "execution_count": 0,
      "outputs": []
    },
    {
      "cell_type": "code",
      "metadata": {
        "id": "e_PIKW4rcXRX",
        "colab_type": "code",
        "colab": {}
      },
      "source": [
        "neighborhoods=[i[:-1] for i in neigh1] # final list that contains all of them"
      ],
      "execution_count": 0,
      "outputs": []
    },
    {
      "cell_type": "code",
      "metadata": {
        "id": "fy6iMcx5cYqp",
        "colab_type": "code",
        "colab": {}
      },
      "source": [
        "del neighborhoods[7] # it has the same neighborhood twice for some reason"
      ],
      "execution_count": 0,
      "outputs": []
    },
    {
      "cell_type": "markdown",
      "metadata": {
        "id": "2dtzwkKQct5E",
        "colab_type": "text"
      },
      "source": [
        "Now we want to find the coordinates of those neighborhoods, but Nominatim does not always work. So we will call it and if it works good, otherwise we will add it later on manually"
      ]
    },
    {
      "cell_type": "code",
      "metadata": {
        "id": "xxvw-q-GcaIP",
        "colab_type": "code",
        "outputId": "b8e21fa4-bc2c-4a72-a9b9-e3f6b6f3f187",
        "colab": {
          "base_uri": "https://localhost:8080/",
          "height": 74
        }
      },
      "source": [
        "neighborhoods_coordinates=[]\n",
        "for i in neighborhoods:\n",
        "  helplist=[]\n",
        "  try:\n",
        "    a,b=coordinates(i)\n",
        "    helplist.append(a)\n",
        "    helplist.append(b)\n",
        "  except:\n",
        "    pass\n",
        "  helplist.append(i)\n",
        "  neighborhoods_coordinates.append(helplist)"
      ],
      "execution_count": 0,
      "outputs": [
        {
          "output_type": "stream",
          "text": [
            "/usr/local/lib/python3.6/dist-packages/geopy/geocoders/osm.py:143: UserWarning: Using Nominatim with the default \"geopy/1.17.0\" `user_agent` is strongly discouraged, as it violates Nominatim's ToS https://operations.osmfoundation.org/policies/nominatim/ and may possibly cause 403 and 429 HTTP errors. Please specify a custom `user_agent` with `Nominatim(user_agent=\"my-application\")` or by overriding the default `user_agent`: `geopy.geocoders.options.default_user_agent = \"my-application\"`. In geopy 2.0 this will become an exception.\n",
            "  UserWarning\n"
          ],
          "name": "stderr"
        }
      ]
    },
    {
      "cell_type": "markdown",
      "metadata": {
        "id": "A5V2etO6f88o",
        "colab_type": "text"
      },
      "source": [
        "So it failed for the following, which we can put in back manually"
      ]
    },
    {
      "cell_type": "code",
      "metadata": {
        "id": "32Y9M6xCd5cu",
        "colab_type": "code",
        "colab": {}
      },
      "source": [
        "neighborhoods_coordinates[17]=[38.040999836,23.754663648,'Irakleio']\n",
        "#neighborhoods_coordinates[20]=[37.961782,23.618335,'Keratsini-Drapetsona']\n",
        "#neighborhoods_coordinates[23]=[38.0625172,23.7946578,'Lykovrysi-Pefki']\n",
        "#neighborhoods_coordinates[27]=[37.944288,23.711756,'Nea Smyrni']\n",
        "#neighborhoods_coordinates[30]=[38.002648,23.798605,'Papagou-Cholargos']\n",
        "neighborhoods_coordinates[33]=[37.965609,23.567709,'Perama']\n",
        "#neighborhoods_coordinates[34]=[38.010972,23.6887449,'Peristeri']\n",
        "#neighborhoods_coordinates[37]=[37.959333,23.751301,'Vyronas']"
      ],
      "execution_count": 0,
      "outputs": []
    },
    {
      "cell_type": "markdown",
      "metadata": {
        "id": "_Pmk53PrgMff",
        "colab_type": "text"
      },
      "source": [
        "## Step 3: Find the cafes around those neighborhoods"
      ]
    },
    {
      "cell_type": "code",
      "metadata": {
        "id": "7o1zan50eevl",
        "colab_type": "code",
        "colab": {}
      },
      "source": [
        "cafe_id=[]\n",
        "cafe_name=[]\n",
        "cafe_lat=[]\n",
        "cafe_lng=[]\n",
        "cafe_neighborhood=[]\n",
        "for j in neighborhoods_coordinates:\n",
        "  a=explore(j[0],j[1],rad=3000,sortD=1)\n",
        "  for i in range(len(a)):\n",
        "    cafe_id.append(a[i]['venue']['id'])\n",
        "    cafe_lat.append(a[i]['venue']['location']['lat'])\n",
        "    cafe_lng.append(a[i]['venue']['location']['lng'])\n",
        "    cafe_name.append(a[i]['venue']['name'])\n",
        "    cafe_neighborhood.append(j[2])"
      ],
      "execution_count": 0,
      "outputs": []
    },
    {
      "cell_type": "code",
      "metadata": {
        "id": "QvqOmjv1i9Vb",
        "colab_type": "code",
        "outputId": "1251501a-4cdb-4f16-cbb5-9991772ac46d",
        "colab": {
          "base_uri": "https://localhost:8080/",
          "height": 143
        }
      },
      "source": [
        "cafes=pd.DataFrame()\n",
        "cafes['id']=cafe_id\n",
        "cafes['name']=cafe_name\n",
        "cafes['lat']=cafe_lat\n",
        "cafes['lng']=cafe_lng\n",
        "cafes['neighborhood']=cafe_neighborhood\n",
        "cafes.head(3)"
      ],
      "execution_count": 0,
      "outputs": [
        {
          "output_type": "execute_result",
          "data": {
            "text/html": [
              "<div>\n",
              "<style scoped>\n",
              "    .dataframe tbody tr th:only-of-type {\n",
              "        vertical-align: middle;\n",
              "    }\n",
              "\n",
              "    .dataframe tbody tr th {\n",
              "        vertical-align: top;\n",
              "    }\n",
              "\n",
              "    .dataframe thead th {\n",
              "        text-align: right;\n",
              "    }\n",
              "</style>\n",
              "<table border=\"1\" class=\"dataframe\">\n",
              "  <thead>\n",
              "    <tr style=\"text-align: right;\">\n",
              "      <th></th>\n",
              "      <th>id</th>\n",
              "      <th>name</th>\n",
              "      <th>lat</th>\n",
              "      <th>lng</th>\n",
              "      <th>neighborhood</th>\n",
              "    </tr>\n",
              "  </thead>\n",
              "  <tbody>\n",
              "    <tr>\n",
              "      <th>0</th>\n",
              "      <td>513b7cfbe4b0334da3ca912f</td>\n",
              "      <td>Ethno Cafe</td>\n",
              "      <td>38.004744</td>\n",
              "      <td>23.822445</td>\n",
              "      <td>Agia Paraskevi</td>\n",
              "    </tr>\n",
              "    <tr>\n",
              "      <th>1</th>\n",
              "      <td>4bddd6bf0ee3a593d7da2eb0</td>\n",
              "      <td>Posto Γωνιά</td>\n",
              "      <td>38.008841</td>\n",
              "      <td>23.825496</td>\n",
              "      <td>Agia Paraskevi</td>\n",
              "    </tr>\n",
              "    <tr>\n",
              "      <th>2</th>\n",
              "      <td>528d1c7511d2543b73dcb571</td>\n",
              "      <td>Lola</td>\n",
              "      <td>38.009057</td>\n",
              "      <td>23.825464</td>\n",
              "      <td>Agia Paraskevi</td>\n",
              "    </tr>\n",
              "  </tbody>\n",
              "</table>\n",
              "</div>"
            ],
            "text/plain": [
              "                         id         name        lat        lng    neighborhood\n",
              "0  513b7cfbe4b0334da3ca912f   Ethno Cafe  38.004744  23.822445  Agia Paraskevi\n",
              "1  4bddd6bf0ee3a593d7da2eb0  Posto Γωνιά  38.008841  23.825496  Agia Paraskevi\n",
              "2  528d1c7511d2543b73dcb571         Lola  38.009057  23.825464  Agia Paraskevi"
            ]
          },
          "metadata": {
            "tags": []
          },
          "execution_count": 16
        }
      ]
    },
    {
      "cell_type": "markdown",
      "metadata": {
        "id": "RFU-bs35kP4D",
        "colab_type": "text"
      },
      "source": [
        "There are duplicates for sure!"
      ]
    },
    {
      "cell_type": "code",
      "metadata": {
        "id": "e3Gb6lPkkB57",
        "colab_type": "code",
        "outputId": "8aa55d82-ab1d-45d6-a8a4-3646fdd75f64",
        "colab": {
          "base_uri": "https://localhost:8080/",
          "height": 36
        }
      },
      "source": [
        "cafes=cafes.drop_duplicates(subset='id')\n",
        "cafes.reset_index(drop=False,inplace=True)\n",
        "del cafes['index']\n",
        "print('There were found {} unique cafes in Athens, Greece.'.format(cafes.shape[0]))"
      ],
      "execution_count": 0,
      "outputs": [
        {
          "output_type": "stream",
          "text": [
            "There were found 1771 unique cafes in Athens, Greece.\n"
          ],
          "name": "stdout"
        }
      ]
    },
    {
      "cell_type": "markdown",
      "metadata": {
        "id": "TLb7XqPmksl6",
        "colab_type": "text"
      },
      "source": [
        "## Step 4: Find the likes each cafe got"
      ]
    },
    {
      "cell_type": "markdown",
      "metadata": {
        "id": "SSpFBSPRkwjq",
        "colab_type": "text"
      },
      "source": [
        "Now there will be a problem. We do not have enough api calls to do it at once. So I will do it in 3 steps, changing keys each time."
      ]
    },
    {
      "cell_type": "code",
      "metadata": {
        "id": "ql3li__dkjhK",
        "colab_type": "code",
        "colab": {}
      },
      "source": [
        "likes=[]"
      ],
      "execution_count": 0,
      "outputs": []
    },
    {
      "cell_type": "code",
      "metadata": {
        "id": "G6aMEDBwlGpp",
        "colab_type": "code",
        "colab": {}
      },
      "source": [
        "for i in range(len(likes),900): # I have already used 40 api calls, so the first time I will be left with around 900 to use\n",
        "  likes.append(recommend(cafes['id'][i]))"
      ],
      "execution_count": 0,
      "outputs": []
    },
    {
      "cell_type": "code",
      "metadata": {
        "id": "7Ozo5r_lmUaI",
        "colab_type": "code",
        "colab": {}
      },
      "source": [
        "#Changed the key\n",
        "for i in range(900,1771):  # Each key has 950 calls.\n",
        "  likes.append(recommend(cafes['id'][i]))"
      ],
      "execution_count": 0,
      "outputs": []
    },
    {
      "cell_type": "code",
      "metadata": {
        "id": "M-3H25rjnaqZ",
        "colab_type": "code",
        "outputId": "21a0eb85-72a5-4bc3-9065-d767c293cc98",
        "colab": {
          "base_uri": "https://localhost:8080/",
          "height": 143
        }
      },
      "source": [
        "cafes['likes']=likes\n",
        "cafes.head(3)"
      ],
      "execution_count": 0,
      "outputs": [
        {
          "output_type": "execute_result",
          "data": {
            "text/html": [
              "<div>\n",
              "<style scoped>\n",
              "    .dataframe tbody tr th:only-of-type {\n",
              "        vertical-align: middle;\n",
              "    }\n",
              "\n",
              "    .dataframe tbody tr th {\n",
              "        vertical-align: top;\n",
              "    }\n",
              "\n",
              "    .dataframe thead th {\n",
              "        text-align: right;\n",
              "    }\n",
              "</style>\n",
              "<table border=\"1\" class=\"dataframe\">\n",
              "  <thead>\n",
              "    <tr style=\"text-align: right;\">\n",
              "      <th></th>\n",
              "      <th>id</th>\n",
              "      <th>name</th>\n",
              "      <th>lat</th>\n",
              "      <th>lng</th>\n",
              "      <th>neighborhood</th>\n",
              "      <th>likes</th>\n",
              "    </tr>\n",
              "  </thead>\n",
              "  <tbody>\n",
              "    <tr>\n",
              "      <th>0</th>\n",
              "      <td>513b7cfbe4b0334da3ca912f</td>\n",
              "      <td>Ethno Cafe</td>\n",
              "      <td>38.004744</td>\n",
              "      <td>23.822445</td>\n",
              "      <td>Agia Paraskevi</td>\n",
              "      <td>17</td>\n",
              "    </tr>\n",
              "    <tr>\n",
              "      <th>1</th>\n",
              "      <td>4bddd6bf0ee3a593d7da2eb0</td>\n",
              "      <td>Posto Γωνιά</td>\n",
              "      <td>38.008841</td>\n",
              "      <td>23.825496</td>\n",
              "      <td>Agia Paraskevi</td>\n",
              "      <td>29</td>\n",
              "    </tr>\n",
              "    <tr>\n",
              "      <th>2</th>\n",
              "      <td>528d1c7511d2543b73dcb571</td>\n",
              "      <td>Lola</td>\n",
              "      <td>38.009057</td>\n",
              "      <td>23.825464</td>\n",
              "      <td>Agia Paraskevi</td>\n",
              "      <td>95</td>\n",
              "    </tr>\n",
              "  </tbody>\n",
              "</table>\n",
              "</div>"
            ],
            "text/plain": [
              "                         id         name  ...    neighborhood  likes\n",
              "0  513b7cfbe4b0334da3ca912f   Ethno Cafe  ...  Agia Paraskevi     17\n",
              "1  4bddd6bf0ee3a593d7da2eb0  Posto Γωνιά  ...  Agia Paraskevi     29\n",
              "2  528d1c7511d2543b73dcb571         Lola  ...  Agia Paraskevi     95\n",
              "\n",
              "[3 rows x 6 columns]"
            ]
          },
          "metadata": {
            "tags": []
          },
          "execution_count": 23
        }
      ]
    },
    {
      "cell_type": "markdown",
      "metadata": {
        "id": "bpnoanRzqh_s",
        "colab_type": "text"
      },
      "source": [
        "##Step 5: Find the cafes around each cafe (50 meters)"
      ]
    },
    {
      "cell_type": "markdown",
      "metadata": {
        "id": "HZfrOnYEq27Q",
        "colab_type": "text"
      },
      "source": [
        "We will use the lat and lng of each cafe to find the cafes around those coordinates in a radius of 50 meters."
      ]
    },
    {
      "cell_type": "code",
      "metadata": {
        "id": "UznA93uBq2Ip",
        "colab_type": "code",
        "colab": {}
      },
      "source": [
        "NumberOfComp=[]\n",
        "Comp=[]"
      ],
      "execution_count": 0,
      "outputs": []
    },
    {
      "cell_type": "code",
      "metadata": {
        "id": "WuLoYufnnsDJ",
        "colab_type": "code",
        "colab": {}
      },
      "source": [
        "for i in range(len(Comp),940):                                                       \n",
        "  a=explore(cafes['lat'][i],cafes['lng'][i],rad=50,sortD=1)\n",
        "  NumberOfComp.append(len(a)-1)                                              #we want to substract one because the search will include the cafe itself\n",
        "  helplist=[]\n",
        "  for j in range(1,len(a)):                                                  #again we do not want to include the first entry, for the same reason as above\n",
        "    helplist.append(a[j]['venue']['id'])\n",
        "  Comp.append(helplist)"
      ],
      "execution_count": 0,
      "outputs": []
    },
    {
      "cell_type": "code",
      "metadata": {
        "id": "hG4SuxeCry5b",
        "colab_type": "code",
        "colab": {}
      },
      "source": [
        "for i in range(len(Comp),1771):\n",
        "  a=explore(cafes['lat'][i],cafes['lng'][i],rad=50,sortD=1)\n",
        "  NumberOfComp.append(len(a)-1)\n",
        "  helplist=[]\n",
        "  for j in range(1,len(a)):\n",
        "    helplist.append(a[j]['venue']['id'])\n",
        "  Comp.append(helplist)"
      ],
      "execution_count": 0,
      "outputs": []
    },
    {
      "cell_type": "code",
      "metadata": {
        "id": "Y1bmlQEes9pw",
        "colab_type": "code",
        "outputId": "eae88ab8-0aec-4f93-ede1-d91d0e543fc3",
        "colab": {
          "base_uri": "https://localhost:8080/",
          "height": 161
        }
      },
      "source": [
        "cafes['number']=NumberOfComp\n",
        "cafes['competitors']=Comp\n",
        "cafes.head(3)"
      ],
      "execution_count": 0,
      "outputs": [
        {
          "output_type": "execute_result",
          "data": {
            "text/html": [
              "<div>\n",
              "<style scoped>\n",
              "    .dataframe tbody tr th:only-of-type {\n",
              "        vertical-align: middle;\n",
              "    }\n",
              "\n",
              "    .dataframe tbody tr th {\n",
              "        vertical-align: top;\n",
              "    }\n",
              "\n",
              "    .dataframe thead th {\n",
              "        text-align: right;\n",
              "    }\n",
              "</style>\n",
              "<table border=\"1\" class=\"dataframe\">\n",
              "  <thead>\n",
              "    <tr style=\"text-align: right;\">\n",
              "      <th></th>\n",
              "      <th>id</th>\n",
              "      <th>name</th>\n",
              "      <th>lat</th>\n",
              "      <th>lng</th>\n",
              "      <th>neighborhood</th>\n",
              "      <th>likes</th>\n",
              "      <th>number</th>\n",
              "      <th>competitors</th>\n",
              "    </tr>\n",
              "  </thead>\n",
              "  <tbody>\n",
              "    <tr>\n",
              "      <th>0</th>\n",
              "      <td>513b7cfbe4b0334da3ca912f</td>\n",
              "      <td>Ethno Cafe</td>\n",
              "      <td>38.004744</td>\n",
              "      <td>23.822445</td>\n",
              "      <td>Agia Paraskevi</td>\n",
              "      <td>17</td>\n",
              "      <td>0</td>\n",
              "      <td>[]</td>\n",
              "    </tr>\n",
              "    <tr>\n",
              "      <th>1</th>\n",
              "      <td>4bddd6bf0ee3a593d7da2eb0</td>\n",
              "      <td>Posto Γωνιά</td>\n",
              "      <td>38.008841</td>\n",
              "      <td>23.825496</td>\n",
              "      <td>Agia Paraskevi</td>\n",
              "      <td>29</td>\n",
              "      <td>2</td>\n",
              "      <td>[528d1c7511d2543b73dcb571, 58298ab63398744fe40...</td>\n",
              "    </tr>\n",
              "    <tr>\n",
              "      <th>2</th>\n",
              "      <td>528d1c7511d2543b73dcb571</td>\n",
              "      <td>Lola</td>\n",
              "      <td>38.009057</td>\n",
              "      <td>23.825464</td>\n",
              "      <td>Agia Paraskevi</td>\n",
              "      <td>95</td>\n",
              "      <td>1</td>\n",
              "      <td>[4bddd6bf0ee3a593d7da2eb0]</td>\n",
              "    </tr>\n",
              "  </tbody>\n",
              "</table>\n",
              "</div>"
            ],
            "text/plain": [
              "                         id  ...                                        competitors\n",
              "0  513b7cfbe4b0334da3ca912f  ...                                                 []\n",
              "1  4bddd6bf0ee3a593d7da2eb0  ...  [528d1c7511d2543b73dcb571, 58298ab63398744fe40...\n",
              "2  528d1c7511d2543b73dcb571  ...                         [4bddd6bf0ee3a593d7da2eb0]\n",
              "\n",
              "[3 rows x 8 columns]"
            ]
          },
          "metadata": {
            "tags": []
          },
          "execution_count": 32
        }
      ]
    },
    {
      "cell_type": "markdown",
      "metadata": {
        "id": "WDbRwAy3uKFf",
        "colab_type": "text"
      },
      "source": [
        "##Step 6: Find the average likes of competitors"
      ]
    },
    {
      "cell_type": "code",
      "metadata": {
        "id": "ObYFOiEVuIN3",
        "colab_type": "code",
        "colab": {}
      },
      "source": [
        "def avg(a):\n",
        "  count=0\n",
        "  for i in a:\n",
        "    count = count + i\n",
        "  return(count/len(a))"
      ],
      "execution_count": 0,
      "outputs": []
    },
    {
      "cell_type": "code",
      "metadata": {
        "id": "bMZqPq-wuTdm",
        "colab_type": "code",
        "colab": {}
      },
      "source": [
        "average=[]"
      ],
      "execution_count": 0,
      "outputs": []
    },
    {
      "cell_type": "code",
      "metadata": {
        "id": "_7o3DhXiuU94",
        "colab_type": "code",
        "colab": {}
      },
      "source": [
        "for i in range(len(average),1771):                         \n",
        "  lst=cafes['competitors'][i]               \n",
        "  a=len(lst)                                     # a is the lenght of the list of competitors\n",
        "  if a==0:                                \n",
        "    average.append('NA')\n",
        "  else:                                      \n",
        "    helplist=[]                    \n",
        "    for j in lst:                                # Now take an element in the list of competitors\n",
        "      try:\n",
        "        b=cafes[cafes['id']==j]['likes']    #check if we can find that competitors like count in our data frame\n",
        "      except:                                                   # so we do not waste calls\n",
        "        b=recommend(j)                                             # else find it normally\n",
        "      helplist.append(b)                          #Put the likecount in a list\n",
        "    average.append(avg(helplist))"
      ],
      "execution_count": 0,
      "outputs": []
    },
    {
      "cell_type": "code",
      "metadata": {
        "id": "adgzOChhu3Ln",
        "colab_type": "code",
        "outputId": "45df22d8-6b5f-4169-d4d4-a285f6f2317b",
        "colab": {
          "base_uri": "https://localhost:8080/",
          "height": 258
        }
      },
      "source": [
        "cafes['average']=average\n",
        "cafes.head()"
      ],
      "execution_count": 0,
      "outputs": [
        {
          "output_type": "execute_result",
          "data": {
            "text/html": [
              "<div>\n",
              "<style scoped>\n",
              "    .dataframe tbody tr th:only-of-type {\n",
              "        vertical-align: middle;\n",
              "    }\n",
              "\n",
              "    .dataframe tbody tr th {\n",
              "        vertical-align: top;\n",
              "    }\n",
              "\n",
              "    .dataframe thead th {\n",
              "        text-align: right;\n",
              "    }\n",
              "</style>\n",
              "<table border=\"1\" class=\"dataframe\">\n",
              "  <thead>\n",
              "    <tr style=\"text-align: right;\">\n",
              "      <th></th>\n",
              "      <th>id</th>\n",
              "      <th>name</th>\n",
              "      <th>lat</th>\n",
              "      <th>lng</th>\n",
              "      <th>neighborhood</th>\n",
              "      <th>likes</th>\n",
              "      <th>number</th>\n",
              "      <th>competitors</th>\n",
              "      <th>average</th>\n",
              "    </tr>\n",
              "  </thead>\n",
              "  <tbody>\n",
              "    <tr>\n",
              "      <th>0</th>\n",
              "      <td>513b7cfbe4b0334da3ca912f</td>\n",
              "      <td>Ethno Cafe</td>\n",
              "      <td>38.004744</td>\n",
              "      <td>23.822445</td>\n",
              "      <td>Agia Paraskevi</td>\n",
              "      <td>17</td>\n",
              "      <td>0</td>\n",
              "      <td>[]</td>\n",
              "      <td>NA</td>\n",
              "    </tr>\n",
              "    <tr>\n",
              "      <th>1</th>\n",
              "      <td>4bddd6bf0ee3a593d7da2eb0</td>\n",
              "      <td>Posto Γωνιά</td>\n",
              "      <td>38.008841</td>\n",
              "      <td>23.825496</td>\n",
              "      <td>Agia Paraskevi</td>\n",
              "      <td>29</td>\n",
              "      <td>2</td>\n",
              "      <td>[528d1c7511d2543b73dcb571, 58298ab63398744fe40...</td>\n",
              "      <td>57.5</td>\n",
              "    </tr>\n",
              "    <tr>\n",
              "      <th>2</th>\n",
              "      <td>528d1c7511d2543b73dcb571</td>\n",
              "      <td>Lola</td>\n",
              "      <td>38.009057</td>\n",
              "      <td>23.825464</td>\n",
              "      <td>Agia Paraskevi</td>\n",
              "      <td>95</td>\n",
              "      <td>1</td>\n",
              "      <td>[4bddd6bf0ee3a593d7da2eb0]</td>\n",
              "      <td>29</td>\n",
              "    </tr>\n",
              "    <tr>\n",
              "      <th>3</th>\n",
              "      <td>58298ab63398744fe40dd9fd</td>\n",
              "      <td>kupa</td>\n",
              "      <td>38.008692</td>\n",
              "      <td>23.825898</td>\n",
              "      <td>Agia Paraskevi</td>\n",
              "      <td>20</td>\n",
              "      <td>1</td>\n",
              "      <td>[4bddd6bf0ee3a593d7da2eb0]</td>\n",
              "      <td>29</td>\n",
              "    </tr>\n",
              "    <tr>\n",
              "      <th>4</th>\n",
              "      <td>4e208e4788774a43b76095ff</td>\n",
              "      <td>North</td>\n",
              "      <td>38.006977</td>\n",
              "      <td>23.827127</td>\n",
              "      <td>Agia Paraskevi</td>\n",
              "      <td>64</td>\n",
              "      <td>3</td>\n",
              "      <td>[543d6db6498ea549c8ed8cee, 549c9af7498e6de3ba3...</td>\n",
              "      <td>245.333</td>\n",
              "    </tr>\n",
              "  </tbody>\n",
              "</table>\n",
              "</div>"
            ],
            "text/plain": [
              "                         id  ...  average\n",
              "0  513b7cfbe4b0334da3ca912f  ...       NA\n",
              "1  4bddd6bf0ee3a593d7da2eb0  ...     57.5\n",
              "2  528d1c7511d2543b73dcb571  ...       29\n",
              "3  58298ab63398744fe40dd9fd  ...       29\n",
              "4  4e208e4788774a43b76095ff  ...  245.333\n",
              "\n",
              "[5 rows x 9 columns]"
            ]
          },
          "metadata": {
            "tags": []
          },
          "execution_count": 44
        }
      ]
    },
    {
      "cell_type": "markdown",
      "metadata": {
        "id": "45pjpomCvPpo",
        "colab_type": "text"
      },
      "source": [
        "## Step 7: Create last DataFrame"
      ]
    },
    {
      "cell_type": "code",
      "metadata": {
        "id": "gbvcL9b4vJvw",
        "colab_type": "code",
        "colab": {}
      },
      "source": [
        "cafe=pd.DataFrame()\n",
        "cafe['id']=cafes['id']\n",
        "cafe['name']=cafes['name']\n",
        "cafe['neighborhood']=cafes['neighborhood']\n",
        "cafe['number']=cafes['number']\n",
        "cafe['average']=cafes['average']\n",
        "cafe['likes']=cafes['likes']"
      ],
      "execution_count": 0,
      "outputs": []
    },
    {
      "cell_type": "code",
      "metadata": {
        "id": "d2_DMp4DvqfW",
        "colab_type": "code",
        "colab": {}
      },
      "source": [
        "cafe.to_csv('cafes50.csv',index=False)"
      ],
      "execution_count": 0,
      "outputs": []
    },
    {
      "cell_type": "markdown",
      "metadata": {
        "id": "-K15QC54WYCi",
        "colab_type": "text"
      },
      "source": [
        "# Part 2: Data Processing"
      ]
    },
    {
      "cell_type": "code",
      "metadata": {
        "id": "XL0de0hWWm14",
        "colab_type": "code",
        "outputId": "451adba4-05cf-4c25-c0cb-715351b65911",
        "colab": {
          "base_uri": "https://localhost:8080/",
          "height": 81
        }
      },
      "source": [
        "import pandas as pd\n",
        "import numpy as np\n",
        "df=pd.read_csv('cafes50.csv')\n",
        "import matplotlib.pyplot as plt \n",
        "% matplotlib inline\n",
        "df.head(1)"
      ],
      "execution_count": 0,
      "outputs": [
        {
          "output_type": "execute_result",
          "data": {
            "text/html": [
              "<div>\n",
              "<style scoped>\n",
              "    .dataframe tbody tr th:only-of-type {\n",
              "        vertical-align: middle;\n",
              "    }\n",
              "\n",
              "    .dataframe tbody tr th {\n",
              "        vertical-align: top;\n",
              "    }\n",
              "\n",
              "    .dataframe thead th {\n",
              "        text-align: right;\n",
              "    }\n",
              "</style>\n",
              "<table border=\"1\" class=\"dataframe\">\n",
              "  <thead>\n",
              "    <tr style=\"text-align: right;\">\n",
              "      <th></th>\n",
              "      <th>id</th>\n",
              "      <th>name</th>\n",
              "      <th>neighborhood</th>\n",
              "      <th>number</th>\n",
              "      <th>average</th>\n",
              "      <th>likes</th>\n",
              "    </tr>\n",
              "  </thead>\n",
              "  <tbody>\n",
              "    <tr>\n",
              "      <th>0</th>\n",
              "      <td>513b7cfbe4b0334da3ca912f</td>\n",
              "      <td>Ethno Cafe</td>\n",
              "      <td>Agia Paraskevi</td>\n",
              "      <td>0</td>\n",
              "      <td>NaN</td>\n",
              "      <td>17</td>\n",
              "    </tr>\n",
              "  </tbody>\n",
              "</table>\n",
              "</div>"
            ],
            "text/plain": [
              "                         id        name    neighborhood  number average  likes\n",
              "0  513b7cfbe4b0334da3ca912f  Ethno Cafe  Agia Paraskevi       0     NaN     17"
            ]
          },
          "metadata": {
            "tags": []
          },
          "execution_count": 260
        }
      ]
    },
    {
      "cell_type": "markdown",
      "metadata": {
        "id": "fnqo1d2sTHIk",
        "colab_type": "text"
      },
      "source": [
        "## Remove big chain cafes"
      ]
    },
    {
      "cell_type": "code",
      "metadata": {
        "id": "hHbNE_gDTGBz",
        "colab_type": "code",
        "colab": {}
      },
      "source": [
        "Cafe_names=[]\n",
        "Cafe_count=[]\n",
        "for i in df['name']:\n",
        "  count=0\n",
        "  Cafe_names.append(i)\n",
        "  for j in df['name']:\n",
        "    if i==j:\n",
        "      count += 1\n",
        "  Cafe_count.append(count)"
      ],
      "execution_count": 0,
      "outputs": []
    },
    {
      "cell_type": "code",
      "metadata": {
        "id": "7MFaERZZUDyF",
        "colab_type": "code",
        "colab": {}
      },
      "source": [
        "Big_Chain_Cafe=[]\n",
        "for j,i in enumerate(Cafe_count):\n",
        "  if i>1:\n",
        "    Big_Chain_Cafe.append(Cafe_names[j])"
      ],
      "execution_count": 0,
      "outputs": []
    },
    {
      "cell_type": "code",
      "metadata": {
        "id": "dGX5rhVvUkbV",
        "colab_type": "code",
        "outputId": "b2a70e4b-f4e1-4f0c-9914-362cdcc72738",
        "colab": {
          "base_uri": "https://localhost:8080/",
          "height": 53
        }
      },
      "source": [
        "#remove duplicates\n",
        "Big_Chainz=[]\n",
        "for i in Big_Chain_Cafe:\n",
        "  if i not in Big_Chainz:\n",
        "    Big_Chainz.append(i)\n",
        "print('Some examples of Big Chain Cafes are: {}'.format(Big_Chainz[0:5]))\n",
        "print('There were {} cafe chains found'.format(len(Big_Chainz)))"
      ],
      "execution_count": 0,
      "outputs": [
        {
          "output_type": "stream",
          "text": [
            "Some examples of Big Chain Cafes are: ['North', 'Kitchen Lab', 'Opus', 'Coffee Brands', 'Starbucks']\n",
            "There were 60 cafe chains found\n"
          ],
          "name": "stdout"
        }
      ]
    },
    {
      "cell_type": "code",
      "metadata": {
        "id": "sOz9hrpLWhLY",
        "colab_type": "code",
        "colab": {}
      },
      "source": [
        "for i in Big_Chainz:\n",
        "  df=df[df['name'] != i]\n",
        "df.reset_index(drop=False,inplace=True)\n",
        "del df['index']"
      ],
      "execution_count": 0,
      "outputs": []
    },
    {
      "cell_type": "markdown",
      "metadata": {
        "id": "vHkKfrpxWzhA",
        "colab_type": "text"
      },
      "source": [
        "## Examine Neighborhoods"
      ]
    },
    {
      "cell_type": "code",
      "metadata": {
        "id": "lSXe12z-XQBJ",
        "colab_type": "code",
        "outputId": "e7ce0d3d-a2a2-4cb4-9ba5-9591db5a1bd8",
        "colab": {
          "base_uri": "https://localhost:8080/",
          "height": 143
        }
      },
      "source": [
        "neighborhood=pd.DataFrame()\n",
        "neighborhood['neighborhood']=sorted(df['neighborhood'].unique())\n",
        "neighborhood['count']=[i for i in df.groupby('neighborhood')['id'].count()]\n",
        "neighborhood['Average Likes']=[i for i in df.groupby('neighborhood')['likes'].mean()]\n",
        "neighborhood.head(3)"
      ],
      "execution_count": 0,
      "outputs": [
        {
          "output_type": "execute_result",
          "data": {
            "text/html": [
              "<div>\n",
              "<style scoped>\n",
              "    .dataframe tbody tr th:only-of-type {\n",
              "        vertical-align: middle;\n",
              "    }\n",
              "\n",
              "    .dataframe tbody tr th {\n",
              "        vertical-align: top;\n",
              "    }\n",
              "\n",
              "    .dataframe thead th {\n",
              "        text-align: right;\n",
              "    }\n",
              "</style>\n",
              "<table border=\"1\" class=\"dataframe\">\n",
              "  <thead>\n",
              "    <tr style=\"text-align: right;\">\n",
              "      <th></th>\n",
              "      <th>neighborhood</th>\n",
              "      <th>count</th>\n",
              "      <th>Average Likes</th>\n",
              "    </tr>\n",
              "  </thead>\n",
              "  <tbody>\n",
              "    <tr>\n",
              "      <th>0</th>\n",
              "      <td>Agia Paraskevi</td>\n",
              "      <td>85</td>\n",
              "      <td>169.623529</td>\n",
              "    </tr>\n",
              "    <tr>\n",
              "      <th>1</th>\n",
              "      <td>Agia Varvara</td>\n",
              "      <td>80</td>\n",
              "      <td>74.237500</td>\n",
              "    </tr>\n",
              "    <tr>\n",
              "      <th>2</th>\n",
              "      <td>Alimos</td>\n",
              "      <td>89</td>\n",
              "      <td>67.269663</td>\n",
              "    </tr>\n",
              "  </tbody>\n",
              "</table>\n",
              "</div>"
            ],
            "text/plain": [
              "     neighborhood  count  Average Likes\n",
              "0  Agia Paraskevi     85     169.623529\n",
              "1    Agia Varvara     80      74.237500\n",
              "2          Alimos     89      67.269663"
            ]
          },
          "metadata": {
            "tags": []
          },
          "execution_count": 265
        }
      ]
    },
    {
      "cell_type": "code",
      "metadata": {
        "id": "6WmNJKN4XZj5",
        "colab_type": "code",
        "outputId": "d96c30e5-a943-456f-f582-207ad9d12021",
        "colab": {
          "base_uri": "https://localhost:8080/",
          "height": 288
        }
      },
      "source": [
        "ax=plt.subplot()\n",
        "\n",
        "List_I_Want_Annotated=[3,12,19,15,34,5,10]\n",
        "Colors_Of_Future_Annotated=['blue','red','green','grey','purple','black','orange']\n",
        "Colors_Of_Future_Annotated2=Colors_Of_Future_Annotated.copy()\n",
        "Color=[]\n",
        "for i in range(38):\n",
        "  if i not in List_I_Want_Annotated:\n",
        "    Color.append('White')\n",
        "  else:\n",
        "    Color.append(Colors_Of_Future_Annotated[0])\n",
        "    del Colors_Of_Future_Annotated[0]\n",
        "\n",
        "plt.scatter(neighborhood['count'],neighborhood['Average Likes'],edgecolor='black',color=Color)\n",
        "\n",
        "for i,text in enumerate(neighborhood['neighborhood'],0):\n",
        "  if i in List_I_Want_Annotated:\n",
        "    ax.annotate(text,(neighborhood['count'][i],neighborhood['Average Likes'][i]),\n",
        "                xytext=(neighborhood['count'][i]-5,neighborhood['Average Likes'][i]+20),\n",
        "                color=Colors_Of_Future_Annotated2[0])\n",
        "    del Colors_Of_Future_Annotated2[0]\n",
        "\n",
        "ax.spines['top'].set_visible(False)\n",
        "ax.spines['right'].set_visible(False)\n",
        "\n",
        "plt.xlim((0,100))\n",
        "\n",
        "plt.xlabel('Number of Observations')\n",
        "plt.ylabel('Average Number of Likes')\n",
        "\n",
        "plt.show()"
      ],
      "execution_count": 0,
      "outputs": [
        {
          "output_type": "display_data",
          "data": {
            "image/png": "[encoded data removed]",
            "text/plain": [
              "<Figure size 432x288 with 1 Axes>"
            ]
          },
          "metadata": {
            "tags": []
          }
        }
      ]
    },
    {
      "cell_type": "markdown",
      "metadata": {
        "id": "wMBWLAgkW4g4",
        "colab_type": "text"
      },
      "source": [
        "## Examine Dataset"
      ]
    },
    {
      "cell_type": "code",
      "metadata": {
        "id": "My-rzEtZZfii",
        "colab_type": "code",
        "outputId": "097df62a-e5cb-4c22-c6d0-99368526dcf9",
        "colab": {
          "base_uri": "https://localhost:8080/",
          "height": 359
        }
      },
      "source": [
        "fig=plt.figure()\n",
        "\n",
        "plt.subplot(121)\n",
        "ax1=plt.subplot(121)\n",
        "ax1.spines['top'].set_visible(False)\n",
        "ax1.spines['right'].set_visible(False)\n",
        "plt.ylabel('Number of Likes')\n",
        "plt.boxplot(df['likes'],labels=['Unzoomed Version'])\n",
        "\n",
        "plt.subplot(122)\n",
        "plt.boxplot(df['likes'],labels=['Zoomed Version'])\n",
        "ax2=plt.subplot(122)\n",
        "ax2.yaxis.set_label_position(\"right\")\n",
        "ax2.yaxis.tick_right()\n",
        "ax2.spines['top'].set_visible(False)\n",
        "ax2.spines['left'].set_visible(False)\n",
        "plt.ylabel('Number of Likes')\n",
        "plt.ylim([0,175])\n",
        "c=['blue','orange','blue','black']\n",
        "for j,i in enumerate([0.25,0.5,0.75,0.858]):\n",
        "  ax2.axhline(xmin=0.17,xmax=0.41,y=np.quantile(df['likes'],i),color=c[j],linewidth=1,linestyle='dashed')\n",
        "  plt.annotate(s='{}'.format(round(np.quantile(df['likes'],i),1)),xy=(0.5,np.quantile(df['likes'],i)),color=c[j])\n",
        "\n",
        "plt.show()"
      ],
      "execution_count": 0,
      "outputs": [
        {
          "output_type": "stream",
          "text": [
            "/usr/local/lib/python3.6/dist-packages/ipykernel_launcher.py:4: MatplotlibDeprecationWarning: Adding an axes using the same arguments as a previous axes currently reuses the earlier instance.  In a future version, a new instance will always be created and returned.  Meanwhile, this warning can be suppressed, and the future behavior ensured, by passing a unique label to each axes instance.\n",
            "  after removing the cwd from sys.path.\n",
            "/usr/local/lib/python3.6/dist-packages/ipykernel_launcher.py:12: MatplotlibDeprecationWarning: Adding an axes using the same arguments as a previous axes currently reuses the earlier instance.  In a future version, a new instance will always be created and returned.  Meanwhile, this warning can be suppressed, and the future behavior ensured, by passing a unique label to each axes instance.\n",
            "  if sys.path[0] == '':\n"
          ],
          "name": "stderr"
        },
        {
          "output_type": "display_data",
          "data": {
            "image/png": "[encoded data removed]",
            "text/plain": [
              "<Figure size 432x288 with 2 Axes>"
            ]
          },
          "metadata": {
            "tags": []
          }
        }
      ]
    },
    {
      "cell_type": "markdown",
      "metadata": {
        "id": "N2abP1LUd02z",
        "colab_type": "text"
      },
      "source": [
        "So there are big differences between high likes cafes and low likes cafes. To lower the impact that high cafes have on the average we will take the cube root of each cafe's likes."
      ]
    },
    {
      "cell_type": "code",
      "metadata": {
        "id": "QDOrIXzhd0KV",
        "colab_type": "code",
        "colab": {}
      },
      "source": [
        "df['likes']=df['likes']**(1/3)"
      ],
      "execution_count": 0,
      "outputs": []
    },
    {
      "cell_type": "code",
      "metadata": {
        "id": "koBZ3w9seaTQ",
        "colab_type": "code",
        "outputId": "72f29d66-cca6-4cbf-eb11-6b76f3695d2a",
        "colab": {
          "base_uri": "https://localhost:8080/",
          "height": 265
        }
      },
      "source": [
        "plt.boxplot(df['likes']);"
      ],
      "execution_count": 0,
      "outputs": [
        {
          "output_type": "display_data",
          "data": {
            "image/png": "[encoded data removed]",
            "text/plain": [
              "<Figure size 432x288 with 1 Axes>"
            ]
          },
          "metadata": {
            "tags": []
          }
        }
      ]
    },
    {
      "cell_type": "markdown",
      "metadata": {
        "id": "1b4cIYioexEc",
        "colab_type": "text"
      },
      "source": [
        "ok it looks better"
      ]
    },
    {
      "cell_type": "markdown",
      "metadata": {
        "id": "P72kYtEHW85Q",
        "colab_type": "text"
      },
      "source": [
        "##Adjust the DataSet for the neighborhood"
      ]
    },
    {
      "cell_type": "markdown",
      "metadata": {
        "id": "2A8649-5aHUA",
        "colab_type": "text"
      },
      "source": [
        "Each neighborhood is different and some are more beneficial than others."
      ]
    },
    {
      "cell_type": "code",
      "metadata": {
        "id": "C-dKmXBysfp1",
        "colab_type": "code",
        "colab": {}
      },
      "source": [
        "df1=pd.DataFrame()\n",
        "df1['name']=sorted(df['neighborhood'].unique())\n",
        "\n",
        "median=[]\n",
        "for i in df1['name']:\n",
        "  a=np.quantile(df[df['neighborhood']==i]['likes'],0.5)\n",
        "  median.append(a)\n",
        "df1['50']=median"
      ],
      "execution_count": 0,
      "outputs": []
    },
    {
      "cell_type": "code",
      "metadata": {
        "id": "C3aSPnbVrsHz",
        "colab_type": "code",
        "outputId": "ef66b8a9-38e0-4239-bde6-326ae682e372",
        "colab": {
          "base_uri": "https://localhost:8080/",
          "height": 286
        }
      },
      "source": [
        "plt.scatter(df1['50'],[1 for i in range(38)],color='black')\n",
        "plt.axvline(x=2.1,color='red')\n",
        "plt.axvline(x=3.2,color='blue')"
      ],
      "execution_count": 0,
      "outputs": [
        {
          "output_type": "execute_result",
          "data": {
            "text/plain": [
              "<matplotlib.lines.Line2D at 0x7f10bcf9fa58>"
            ]
          },
          "metadata": {
            "tags": []
          },
          "execution_count": 271
        },
        {
          "output_type": "display_data",
          "data": {
            "image/png": "[encoded data removed]",
            "text/plain": [
              "<Figure size 432x288 with 1 Axes>"
            ]
          },
          "metadata": {
            "tags": []
          }
        }
      ]
    },
    {
      "cell_type": "code",
      "metadata": {
        "id": "2gODbyODxVEF",
        "colab_type": "code",
        "outputId": "2e13f159-8fb5-4db9-b45a-5eebb97573e9",
        "colab": {
          "base_uri": "https://localhost:8080/",
          "height": 108
        }
      },
      "source": [
        "for j,i in enumerate(df1['50']):\n",
        "  if i>3.2:\n",
        "    print('{} has {} rating'.format(df1['name'][j],i))"
      ],
      "execution_count": 0,
      "outputs": [
        {
          "output_type": "stream",
          "text": [
            "Athina has 4.7474593985234 rating\n",
            "Chalandri has 3.6840314986403864 rating\n",
            "Dafni-Ymittos has 4.3967620511649965 rating\n",
            "Filothei-Psychiko has 3.9148676411688634 rating\n",
            "Vyronas has 3.9578916096804053 rating\n"
          ],
          "name": "stdout"
        }
      ]
    },
    {
      "cell_type": "markdown",
      "metadata": {
        "id": "kl_Ye3JKrv_5",
        "colab_type": "text"
      },
      "source": [
        "We will put each cafe in one of those 3 categories as above"
      ]
    },
    {
      "cell_type": "code",
      "metadata": {
        "id": "l5O6EKHPx8SZ",
        "colab_type": "code",
        "outputId": "1106dd41-1be9-4d0a-8a62-942ff2512d1f",
        "colab": {
          "base_uri": "https://localhost:8080/",
          "height": 35
        }
      },
      "source": [
        "def find_cat(n):\n",
        "  a=df1[df1['name']==n]['50'][sorted(df['neighborhood'].unique()).index(n)]\n",
        "  if a<2.1:\n",
        "    return(0)\n",
        "  elif a<3.2:\n",
        "    return(1)\n",
        "  else:\n",
        "    return(2)\n",
        "\n",
        "print('Example find_cat(\"Athina\")={}'.format(find_cat('Athina')))"
      ],
      "execution_count": 0,
      "outputs": [
        {
          "output_type": "stream",
          "text": [
            "Example find_cat(\"Athina\")=2\n"
          ],
          "name": "stdout"
        }
      ]
    },
    {
      "cell_type": "code",
      "metadata": {
        "id": "-YHl4uIN0CJh",
        "colab_type": "code",
        "outputId": "b1b6c9dd-6e52-45a6-88d0-e95a6f6b999b",
        "colab": {
          "base_uri": "https://localhost:8080/",
          "height": 143
        }
      },
      "source": [
        "df['category']=[find_cat(df['neighborhood'][i]) for i in range(df.shape[0])]\n",
        "df.head(3)"
      ],
      "execution_count": 0,
      "outputs": [
        {
          "output_type": "execute_result",
          "data": {
            "text/html": [
              "<div>\n",
              "<style scoped>\n",
              "    .dataframe tbody tr th:only-of-type {\n",
              "        vertical-align: middle;\n",
              "    }\n",
              "\n",
              "    .dataframe tbody tr th {\n",
              "        vertical-align: top;\n",
              "    }\n",
              "\n",
              "    .dataframe thead th {\n",
              "        text-align: right;\n",
              "    }\n",
              "</style>\n",
              "<table border=\"1\" class=\"dataframe\">\n",
              "  <thead>\n",
              "    <tr style=\"text-align: right;\">\n",
              "      <th></th>\n",
              "      <th>id</th>\n",
              "      <th>name</th>\n",
              "      <th>neighborhood</th>\n",
              "      <th>number</th>\n",
              "      <th>average</th>\n",
              "      <th>likes</th>\n",
              "      <th>category</th>\n",
              "    </tr>\n",
              "  </thead>\n",
              "  <tbody>\n",
              "    <tr>\n",
              "      <th>0</th>\n",
              "      <td>513b7cfbe4b0334da3ca912f</td>\n",
              "      <td>Ethno Cafe</td>\n",
              "      <td>Agia Paraskevi</td>\n",
              "      <td>0</td>\n",
              "      <td>NaN</td>\n",
              "      <td>2.571282</td>\n",
              "      <td>1</td>\n",
              "    </tr>\n",
              "    <tr>\n",
              "      <th>1</th>\n",
              "      <td>4bddd6bf0ee3a593d7da2eb0</td>\n",
              "      <td>Posto Γωνιά</td>\n",
              "      <td>Agia Paraskevi</td>\n",
              "      <td>2</td>\n",
              "      <td>57.5</td>\n",
              "      <td>3.072317</td>\n",
              "      <td>1</td>\n",
              "    </tr>\n",
              "    <tr>\n",
              "      <th>2</th>\n",
              "      <td>528d1c7511d2543b73dcb571</td>\n",
              "      <td>Lola</td>\n",
              "      <td>Agia Paraskevi</td>\n",
              "      <td>1</td>\n",
              "      <td>29</td>\n",
              "      <td>4.562903</td>\n",
              "      <td>1</td>\n",
              "    </tr>\n",
              "  </tbody>\n",
              "</table>\n",
              "</div>"
            ],
            "text/plain": [
              "                         id         name  ...     likes  category\n",
              "0  513b7cfbe4b0334da3ca912f   Ethno Cafe  ...  2.571282         1\n",
              "1  4bddd6bf0ee3a593d7da2eb0  Posto Γωνιά  ...  3.072317         1\n",
              "2  528d1c7511d2543b73dcb571         Lola  ...  4.562903         1\n",
              "\n",
              "[3 rows x 7 columns]"
            ]
          },
          "metadata": {
            "tags": []
          },
          "execution_count": 274
        }
      ]
    },
    {
      "cell_type": "markdown",
      "metadata": {
        "id": "irTOrmFp1Gi_",
        "colab_type": "text"
      },
      "source": [
        "Now we would like to find the median of each category"
      ]
    },
    {
      "cell_type": "code",
      "metadata": {
        "id": "Fre1kssa1TUM",
        "colab_type": "code",
        "outputId": "ac38cf6c-5005-4c0d-baea-db5077cc156b",
        "colab": {
          "base_uri": "https://localhost:8080/",
          "height": 35
        }
      },
      "source": [
        "medians=[]\n",
        "for i in range(3):\n",
        "  a=np.quantile(df[df['category']==i]['likes'],0.5)\n",
        "  medians.append(a)\n",
        "medians"
      ],
      "execution_count": 0,
      "outputs": [
        {
          "output_type": "execute_result",
          "data": {
            "text/plain": [
              "[1.912931182772389, 2.5198420997897464, 4.216413163900862]"
            ]
          },
          "metadata": {
            "tags": []
          },
          "execution_count": 275
        }
      ]
    },
    {
      "cell_type": "markdown",
      "metadata": {
        "id": "kTxlXHci1x4D",
        "colab_type": "text"
      },
      "source": [
        "Now we want to compare how each cafe did to the median of its category. We will divide the likes by the median of each group."
      ]
    },
    {
      "cell_type": "code",
      "metadata": {
        "id": "4GsXJ5Ra16xH",
        "colab_type": "code",
        "outputId": "537ed594-8e4a-4487-987e-f44cd32a42c3",
        "colab": {
          "base_uri": "https://localhost:8080/",
          "height": 112
        }
      },
      "source": [
        "df['category median']=[medians[df['category'][i]] for i in range(df.shape[0])]\n",
        "df.head(2)"
      ],
      "execution_count": 0,
      "outputs": [
        {
          "output_type": "execute_result",
          "data": {
            "text/html": [
              "<div>\n",
              "<style scoped>\n",
              "    .dataframe tbody tr th:only-of-type {\n",
              "        vertical-align: middle;\n",
              "    }\n",
              "\n",
              "    .dataframe tbody tr th {\n",
              "        vertical-align: top;\n",
              "    }\n",
              "\n",
              "    .dataframe thead th {\n",
              "        text-align: right;\n",
              "    }\n",
              "</style>\n",
              "<table border=\"1\" class=\"dataframe\">\n",
              "  <thead>\n",
              "    <tr style=\"text-align: right;\">\n",
              "      <th></th>\n",
              "      <th>id</th>\n",
              "      <th>name</th>\n",
              "      <th>neighborhood</th>\n",
              "      <th>number</th>\n",
              "      <th>average</th>\n",
              "      <th>likes</th>\n",
              "      <th>category</th>\n",
              "      <th>category median</th>\n",
              "    </tr>\n",
              "  </thead>\n",
              "  <tbody>\n",
              "    <tr>\n",
              "      <th>0</th>\n",
              "      <td>513b7cfbe4b0334da3ca912f</td>\n",
              "      <td>Ethno Cafe</td>\n",
              "      <td>Agia Paraskevi</td>\n",
              "      <td>0</td>\n",
              "      <td>NaN</td>\n",
              "      <td>2.571282</td>\n",
              "      <td>1</td>\n",
              "      <td>2.519842</td>\n",
              "    </tr>\n",
              "    <tr>\n",
              "      <th>1</th>\n",
              "      <td>4bddd6bf0ee3a593d7da2eb0</td>\n",
              "      <td>Posto Γωνιά</td>\n",
              "      <td>Agia Paraskevi</td>\n",
              "      <td>2</td>\n",
              "      <td>57.5</td>\n",
              "      <td>3.072317</td>\n",
              "      <td>1</td>\n",
              "      <td>2.519842</td>\n",
              "    </tr>\n",
              "  </tbody>\n",
              "</table>\n",
              "</div>"
            ],
            "text/plain": [
              "                         id         name  ... category  category median\n",
              "0  513b7cfbe4b0334da3ca912f   Ethno Cafe  ...        1         2.519842\n",
              "1  4bddd6bf0ee3a593d7da2eb0  Posto Γωνιά  ...        1         2.519842\n",
              "\n",
              "[2 rows x 8 columns]"
            ]
          },
          "metadata": {
            "tags": []
          },
          "execution_count": 276
        }
      ]
    },
    {
      "cell_type": "code",
      "metadata": {
        "id": "lS-xIE6k3lT0",
        "colab_type": "code",
        "outputId": "5b303fe6-7142-4efe-f3bc-87e3abef7c2d",
        "colab": {
          "base_uri": "https://localhost:8080/",
          "height": 112
        }
      },
      "source": [
        "df['rating']=df['likes']/df['category median']\n",
        "df.head(2)"
      ],
      "execution_count": 0,
      "outputs": [
        {
          "output_type": "execute_result",
          "data": {
            "text/html": [
              "<div>\n",
              "<style scoped>\n",
              "    .dataframe tbody tr th:only-of-type {\n",
              "        vertical-align: middle;\n",
              "    }\n",
              "\n",
              "    .dataframe tbody tr th {\n",
              "        vertical-align: top;\n",
              "    }\n",
              "\n",
              "    .dataframe thead th {\n",
              "        text-align: right;\n",
              "    }\n",
              "</style>\n",
              "<table border=\"1\" class=\"dataframe\">\n",
              "  <thead>\n",
              "    <tr style=\"text-align: right;\">\n",
              "      <th></th>\n",
              "      <th>id</th>\n",
              "      <th>name</th>\n",
              "      <th>neighborhood</th>\n",
              "      <th>number</th>\n",
              "      <th>average</th>\n",
              "      <th>likes</th>\n",
              "      <th>category</th>\n",
              "      <th>category median</th>\n",
              "      <th>rating</th>\n",
              "    </tr>\n",
              "  </thead>\n",
              "  <tbody>\n",
              "    <tr>\n",
              "      <th>0</th>\n",
              "      <td>513b7cfbe4b0334da3ca912f</td>\n",
              "      <td>Ethno Cafe</td>\n",
              "      <td>Agia Paraskevi</td>\n",
              "      <td>0</td>\n",
              "      <td>NaN</td>\n",
              "      <td>2.571282</td>\n",
              "      <td>1</td>\n",
              "      <td>2.519842</td>\n",
              "      <td>1.020414</td>\n",
              "    </tr>\n",
              "    <tr>\n",
              "      <th>1</th>\n",
              "      <td>4bddd6bf0ee3a593d7da2eb0</td>\n",
              "      <td>Posto Γωνιά</td>\n",
              "      <td>Agia Paraskevi</td>\n",
              "      <td>2</td>\n",
              "      <td>57.5</td>\n",
              "      <td>3.072317</td>\n",
              "      <td>1</td>\n",
              "      <td>2.519842</td>\n",
              "      <td>1.219250</td>\n",
              "    </tr>\n",
              "  </tbody>\n",
              "</table>\n",
              "</div>"
            ],
            "text/plain": [
              "                         id         name  ... category median    rating\n",
              "0  513b7cfbe4b0334da3ca912f   Ethno Cafe  ...        2.519842  1.020414\n",
              "1  4bddd6bf0ee3a593d7da2eb0  Posto Γωνιά  ...        2.519842  1.219250\n",
              "\n",
              "[2 rows x 9 columns]"
            ]
          },
          "metadata": {
            "tags": []
          },
          "execution_count": 277
        }
      ]
    },
    {
      "cell_type": "markdown",
      "metadata": {
        "id": "zYnuvF3UrmZI",
        "colab_type": "text"
      },
      "source": [
        "##Recheck Boxplot"
      ]
    },
    {
      "cell_type": "code",
      "metadata": {
        "id": "gadDrPUGbcUs",
        "colab_type": "code",
        "outputId": "7735a3f0-25e8-4045-cb2b-caa39203919d",
        "colab": {
          "base_uri": "https://localhost:8080/",
          "height": 265
        }
      },
      "source": [
        "plt.boxplot(df['rating']);"
      ],
      "execution_count": 0,
      "outputs": [
        {
          "output_type": "display_data",
          "data": {
            "image/png": "[encoded data removed]",
            "text/plain": [
              "<Figure size 432x288 with 1 Axes>"
            ]
          },
          "metadata": {
            "tags": []
          }
        }
      ]
    },
    {
      "cell_type": "markdown",
      "metadata": {
        "id": "GLSzWJEiXJi_",
        "colab_type": "text"
      },
      "source": [
        "## Groupyby number of competitors"
      ]
    },
    {
      "cell_type": "code",
      "metadata": {
        "id": "ZQqMkz0_brh7",
        "colab_type": "code",
        "outputId": "ec8bd1ad-10f4-42f1-ab30-b0293359c8ae",
        "colab": {
          "base_uri": "https://localhost:8080/",
          "height": 457
        }
      },
      "source": [
        "number=pd.DataFrame()\n",
        "number['Average Rating']=[i for i in df.groupby('number')['rating'].mean()]\n",
        "number['count']=[i for i in df.groupby('number')['id'].count()]\n",
        "number"
      ],
      "execution_count": 0,
      "outputs": [
        {
          "output_type": "execute_result",
          "data": {
            "text/html": [
              "<div>\n",
              "<style scoped>\n",
              "    .dataframe tbody tr th:only-of-type {\n",
              "        vertical-align: middle;\n",
              "    }\n",
              "\n",
              "    .dataframe tbody tr th {\n",
              "        vertical-align: top;\n",
              "    }\n",
              "\n",
              "    .dataframe thead th {\n",
              "        text-align: right;\n",
              "    }\n",
              "</style>\n",
              "<table border=\"1\" class=\"dataframe\">\n",
              "  <thead>\n",
              "    <tr style=\"text-align: right;\">\n",
              "      <th></th>\n",
              "      <th>Average Rating</th>\n",
              "      <th>count</th>\n",
              "    </tr>\n",
              "  </thead>\n",
              "  <tbody>\n",
              "    <tr>\n",
              "      <th>0</th>\n",
              "      <td>1.102016</td>\n",
              "      <td>726</td>\n",
              "    </tr>\n",
              "    <tr>\n",
              "      <th>1</th>\n",
              "      <td>1.243370</td>\n",
              "      <td>370</td>\n",
              "    </tr>\n",
              "    <tr>\n",
              "      <th>2</th>\n",
              "      <td>1.343927</td>\n",
              "      <td>157</td>\n",
              "    </tr>\n",
              "    <tr>\n",
              "      <th>3</th>\n",
              "      <td>1.389701</td>\n",
              "      <td>116</td>\n",
              "    </tr>\n",
              "    <tr>\n",
              "      <th>4</th>\n",
              "      <td>1.265879</td>\n",
              "      <td>78</td>\n",
              "    </tr>\n",
              "    <tr>\n",
              "      <th>5</th>\n",
              "      <td>1.214428</td>\n",
              "      <td>39</td>\n",
              "    </tr>\n",
              "    <tr>\n",
              "      <th>6</th>\n",
              "      <td>1.514053</td>\n",
              "      <td>24</td>\n",
              "    </tr>\n",
              "    <tr>\n",
              "      <th>7</th>\n",
              "      <td>1.369749</td>\n",
              "      <td>11</td>\n",
              "    </tr>\n",
              "    <tr>\n",
              "      <th>8</th>\n",
              "      <td>1.794133</td>\n",
              "      <td>8</td>\n",
              "    </tr>\n",
              "    <tr>\n",
              "      <th>9</th>\n",
              "      <td>1.727233</td>\n",
              "      <td>8</td>\n",
              "    </tr>\n",
              "    <tr>\n",
              "      <th>10</th>\n",
              "      <td>1.913504</td>\n",
              "      <td>4</td>\n",
              "    </tr>\n",
              "    <tr>\n",
              "      <th>11</th>\n",
              "      <td>1.309877</td>\n",
              "      <td>6</td>\n",
              "    </tr>\n",
              "    <tr>\n",
              "      <th>12</th>\n",
              "      <td>2.000000</td>\n",
              "      <td>1</td>\n",
              "    </tr>\n",
              "  </tbody>\n",
              "</table>\n",
              "</div>"
            ],
            "text/plain": [
              "    Average Rating  count\n",
              "0         1.102016    726\n",
              "1         1.243370    370\n",
              "2         1.343927    157\n",
              "3         1.389701    116\n",
              "4         1.265879     78\n",
              "5         1.214428     39\n",
              "6         1.514053     24\n",
              "7         1.369749     11\n",
              "8         1.794133      8\n",
              "9         1.727233      8\n",
              "10        1.913504      4\n",
              "11        1.309877      6\n",
              "12        2.000000      1"
            ]
          },
          "metadata": {
            "tags": []
          },
          "execution_count": 280
        }
      ]
    },
    {
      "cell_type": "code",
      "metadata": {
        "id": "QaXv-wWw4hVG",
        "colab_type": "code",
        "outputId": "379ab08d-26b1-4b53-8270-220461a2c5ab",
        "colab": {
          "base_uri": "https://localhost:8080/",
          "height": 283
        }
      },
      "source": [
        "limit=6\n",
        "color1='#cc7b2b'\n",
        "color2='grey'\n",
        "\n",
        "plt.figure()\n",
        "\n",
        "ax1=plt.subplot(111)\n",
        "plt.scatter(range(limit),number['Average Rating'][0:limit],color=color1,marker='x')\n",
        "plt.plot(range(limit),number['Average Rating'][0:limit],color=color1)\n",
        "plt.ylim([1,1.5])\n",
        "plt.title('')\n",
        "plt.xlabel('Number of Competitors')\n",
        "plt.ylabel('Average Custom Rating',color=color1)\n",
        "ax1.spines['top'].set_visible(False)\n",
        "ax1.yaxis.label.set_color(color1)\n",
        "ax1.tick_params(axis='y', colors=color1)\n",
        "\n",
        "ax2 = ax1.twinx()\n",
        "plt.bar(range(limit), number['count'][0:limit],color=color2,width=0.1,alpha=0.3)\n",
        "ax2.tick_params(axis='y', colors=color2)\n",
        "ax2.yaxis.label.set_color(color2)\n",
        "ax2.spines['top'].set_visible(False)\n",
        "plt.ylabel('Count of Observations',color=color2)\n",
        "\n",
        "plt.show()"
      ],
      "execution_count": 0,
      "outputs": [
        {
          "output_type": "display_data",
          "data": {
            "image/png": "[encoded data removed]",
            "text/plain": [
              "<Figure size 432x288 with 2 Axes>"
            ]
          },
          "metadata": {
            "tags": []
          }
        }
      ]
    },
    {
      "cell_type": "markdown",
      "metadata": {
        "id": "j4nKoqD-5bN6",
        "colab_type": "text"
      },
      "source": [
        "So that is looking by average. But we might think that average is not the best metric."
      ]
    },
    {
      "cell_type": "code",
      "metadata": {
        "id": "e2PKOagBgB8S",
        "colab_type": "code",
        "colab": {}
      },
      "source": [
        "list_of_groups=[[] for i in range(12)]\n",
        "for i in range(12):\n",
        "  for j in range(len(df['number'])):\n",
        "    if df['number'][j]==i:\n",
        "      list_of_groups[i].append(df['rating'][j])"
      ],
      "execution_count": 0,
      "outputs": []
    },
    {
      "cell_type": "code",
      "metadata": {
        "id": "aJ32SDNdgruX",
        "colab_type": "code",
        "outputId": "f1f665a1-054b-41bd-fa1e-4d82fc965556",
        "colab": {
          "base_uri": "https://localhost:8080/",
          "height": 265
        }
      },
      "source": [
        "plt.boxplot([list_of_groups[i] for i in range(7)]);"
      ],
      "execution_count": 0,
      "outputs": [
        {
          "output_type": "display_data",
          "data": {
            "image/png": "[encoded data removed]",
            "text/plain": [
              "<Figure size 432x288 with 1 Axes>"
            ]
          },
          "metadata": {
            "tags": []
          }
        }
      ]
    },
    {
      "cell_type": "markdown",
      "metadata": {
        "id": "YEyGErqLByaq",
        "colab_type": "text"
      },
      "source": [
        "Or looking it another way:"
      ]
    },
    {
      "cell_type": "code",
      "metadata": {
        "id": "ViOg6f2TBxaA",
        "colab_type": "code",
        "colab": {}
      },
      "source": [
        "limit=4\n",
        "lst=[[] for i in range(limit)]\n",
        "for j in range(limit): \n",
        "  for i in np.arange(0.25,0.75,0.01):\n",
        "    a=np.quantile(list_of_groups[j],i)\n",
        "    lst[j].append(a)"
      ],
      "execution_count": 0,
      "outputs": []
    },
    {
      "cell_type": "code",
      "metadata": {
        "id": "6HtThN7lCpDh",
        "colab_type": "code",
        "outputId": "646bd71e-54d5-4325-cb20-1aacd4b26227",
        "colab": {
          "base_uri": "https://localhost:8080/",
          "height": 279
        }
      },
      "source": [
        "c=['green','blue','red','black']\n",
        "ax=plt.subplot()\n",
        "for i in range(limit):\n",
        "  plt.plot(np.arange(0.25,0.75,0.01),lst[i],color=c[i]);\n",
        "  plt.annotate(s='{} competitors'.format(i), xy=(0.65,0.7+i*0.08),color=c[i])\n",
        "ax.spines['top'].set_visible(False)\n",
        "ax.spines['right'].set_visible(False)\n",
        "plt.xlabel('Quantile')\n",
        "plt.ylabel(\"Quantile's rating\");\n"
      ],
      "execution_count": 0,
      "outputs": [
        {
          "output_type": "display_data",
          "data": {
            "image/png": "[encoded data removed]",
            "text/plain": [
              "<Figure size 432x288 with 1 Axes>"
            ]
          },
          "metadata": {
            "tags": []
          }
        }
      ]
    },
    {
      "cell_type": "markdown",
      "metadata": {
        "id": "b51XaHqVv63P",
        "colab_type": "text"
      },
      "source": [
        "#FAILED ATTEMPTS"
      ]
    },
    {
      "cell_type": "code",
      "metadata": {
        "id": "Vy1ueNeCvtmO",
        "colab_type": "code",
        "colab": {}
      },
      "source": [
        "df=pd.read_csv('cafes50.csv')"
      ],
      "execution_count": 0,
      "outputs": []
    },
    {
      "cell_type": "code",
      "metadata": {
        "id": "K14HACDWq-Kz",
        "colab_type": "code",
        "colab": {}
      },
      "source": [
        "import matplotlib.pyplot as plt\n",
        "% matplotlib inline"
      ],
      "execution_count": 0,
      "outputs": []
    },
    {
      "cell_type": "markdown",
      "metadata": {
        "id": "nhfx0jw5obCU",
        "colab_type": "text"
      },
      "source": [
        "## Step 1: A graph of neighborhoods"
      ]
    },
    {
      "cell_type": "code",
      "metadata": {
        "id": "6IDBFv2zoFV7",
        "colab_type": "code",
        "outputId": "9c583049-6b14-4f50-89a6-a82c23baa6e1",
        "colab": {
          "base_uri": "https://localhost:8080/",
          "height": 143
        }
      },
      "source": [
        "neighborhood=pd.DataFrame()\n",
        "neighborhood['neighborhood']=sorted(df['neighborhood'].unique())\n",
        "neighborhood['count']=[i for i in df.groupby('neighborhood')['id'].count()]\n",
        "neighborhood['Average Likes']=[i for i in df.groupby('neighborhood')['likes'].mean()]\n",
        "neighborhood.head(3)"
      ],
      "execution_count": 0,
      "outputs": [
        {
          "output_type": "execute_result",
          "data": {
            "text/html": [
              "<div>\n",
              "<style scoped>\n",
              "    .dataframe tbody tr th:only-of-type {\n",
              "        vertical-align: middle;\n",
              "    }\n",
              "\n",
              "    .dataframe tbody tr th {\n",
              "        vertical-align: top;\n",
              "    }\n",
              "\n",
              "    .dataframe thead th {\n",
              "        text-align: right;\n",
              "    }\n",
              "</style>\n",
              "<table border=\"1\" class=\"dataframe\">\n",
              "  <thead>\n",
              "    <tr style=\"text-align: right;\">\n",
              "      <th></th>\n",
              "      <th>neighborhood</th>\n",
              "      <th>count</th>\n",
              "      <th>Average Likes</th>\n",
              "    </tr>\n",
              "  </thead>\n",
              "  <tbody>\n",
              "    <tr>\n",
              "      <th>0</th>\n",
              "      <td>Agia Paraskevi</td>\n",
              "      <td>100</td>\n",
              "      <td>155.32</td>\n",
              "    </tr>\n",
              "    <tr>\n",
              "      <th>1</th>\n",
              "      <td>Agia Varvara</td>\n",
              "      <td>100</td>\n",
              "      <td>65.90</td>\n",
              "    </tr>\n",
              "    <tr>\n",
              "      <th>2</th>\n",
              "      <td>Alimos</td>\n",
              "      <td>100</td>\n",
              "      <td>63.68</td>\n",
              "    </tr>\n",
              "  </tbody>\n",
              "</table>\n",
              "</div>"
            ],
            "text/plain": [
              "     neighborhood  count  Average Likes\n",
              "0  Agia Paraskevi    100         155.32\n",
              "1    Agia Varvara    100          65.90\n",
              "2          Alimos    100          63.68"
            ]
          },
          "metadata": {
            "tags": []
          },
          "execution_count": 49
        }
      ]
    },
    {
      "cell_type": "code",
      "metadata": {
        "id": "siXb8jc_q5da",
        "colab_type": "code",
        "outputId": "7b592aa3-6b4f-497d-ef1a-0eb84ae93505",
        "colab": {
          "base_uri": "https://localhost:8080/",
          "height": 289
        }
      },
      "source": [
        "ax=plt.subplot()\n",
        "\n",
        "List_I_Want_Annotated=[3,12,19,15,34,36,10]\n",
        "Colors_Of_Future_Annotated=['blue','red','green','grey','purple','black','orange']\n",
        "Colors_Of_Future_Annotated2=Colors_Of_Future_Annotated.copy()\n",
        "Color=[]\n",
        "for i in range(38):\n",
        "  if i not in List_I_Want_Annotated:\n",
        "    Color.append('White')\n",
        "  else:\n",
        "    Color.append(Colors_Of_Future_Annotated[0])\n",
        "    del Colors_Of_Future_Annotated[0]\n",
        "\n",
        "plt.scatter(neighborhood['count'],neighborhood['Average Likes'],edgecolor='black',color=Color)\n",
        "\n",
        "for i,text in enumerate(neighborhood['neighborhood'],0):\n",
        "  if i in List_I_Want_Annotated:\n",
        "    ax.annotate(text,(neighborhood['count'][i],neighborhood['Average Likes'][i]),\n",
        "                xytext=(neighborhood['count'][i]-5,neighborhood['Average Likes'][i]+20),\n",
        "                color=Colors_Of_Future_Annotated2[0])\n",
        "    del Colors_Of_Future_Annotated2[0]\n",
        "\n",
        "ax.spines['top'].set_visible(False)\n",
        "ax.spines['right'].set_visible(False)\n",
        "\n",
        "plt.xlabel('Number of Observations')\n",
        "plt.ylabel('Average Number of Likes')\n",
        "\n",
        "plt.show()"
      ],
      "execution_count": 0,
      "outputs": [
        {
          "output_type": "display_data",
          "data": {
            "image/png": "[encoded data removed]",
            "text/plain": [
              "<Figure size 432x288 with 1 Axes>"
            ]
          },
          "metadata": {
            "tags": []
          }
        }
      ]
    },
    {
      "cell_type": "markdown",
      "metadata": {
        "id": "OEeGu3e9yww7",
        "colab_type": "text"
      },
      "source": [
        "Some neighborhoods have many cafes and reach the limit of 100 cafes per search that the api has set (right). Others, have between 40 and 60 (middle). And some have very few (left). "
      ]
    },
    {
      "cell_type": "markdown",
      "metadata": {
        "id": "oMfBNxdPzqYy",
        "colab_type": "text"
      },
      "source": [
        "Athina looks like an extreme outlier compared to other neighborhoods"
      ]
    },
    {
      "cell_type": "markdown",
      "metadata": {
        "id": "ahDc2hllzzII",
        "colab_type": "text"
      },
      "source": [
        "## Step 2: Take out extreme values"
      ]
    },
    {
      "cell_type": "code",
      "metadata": {
        "id": "ZQDDfktqzmt4",
        "colab_type": "code",
        "outputId": "ee8c628d-f51a-4180-e9cc-a3ea558187c9",
        "colab": {
          "base_uri": "https://localhost:8080/",
          "height": 36
        }
      },
      "source": [
        "#I removed Athina from the data set\n",
        "df=pd.read_csv('cafes50NoAthens.csv')\n",
        "df.shape"
      ],
      "execution_count": 0,
      "outputs": [
        {
          "output_type": "execute_result",
          "data": {
            "text/plain": [
              "(1671, 6)"
            ]
          },
          "metadata": {
            "tags": []
          },
          "execution_count": 56
        }
      ]
    },
    {
      "cell_type": "code",
      "metadata": {
        "id": "Yo15ALtUEgf1",
        "colab_type": "code",
        "outputId": "9747aa3c-30f3-482d-9d47-5cdd9cd300ff",
        "colab": {
          "base_uri": "https://localhost:8080/",
          "height": 54
        }
      },
      "source": [
        "print(\"25% of the data is below {} number of likes\".format(np.quantile(df['likes'],0.40)))\n",
        "print(\"25% of the data is above {} number of likes\".format(np.quantile(df['likes'],0.90)))"
      ],
      "execution_count": 0,
      "outputs": [
        {
          "output_type": "stream",
          "text": [
            "25% of the data is below 9.0 number of likes\n",
            "25% of the data is above 200.0 number of likes\n"
          ],
          "name": "stdout"
        }
      ]
    },
    {
      "cell_type": "code",
      "metadata": {
        "id": "ZqoZbtjjMAL7",
        "colab_type": "code",
        "colab": {}
      },
      "source": [
        "low=df[df['likes']<4]\n",
        "high=df[df['likes']>200]"
      ],
      "execution_count": 0,
      "outputs": []
    },
    {
      "cell_type": "code",
      "metadata": {
        "id": "N0OP7_tMFdec",
        "colab_type": "code",
        "outputId": "665edc29-70b2-4d6a-bb34-ef6b194c9afa",
        "colab": {
          "base_uri": "https://localhost:8080/",
          "height": 36
        }
      },
      "source": [
        "drop_list=[]\n",
        "for i in range(1671):\n",
        "  if df['likes'][i]<10 or df['likes'][i]>200:\n",
        "    drop_list.append(i)\n",
        "df.drop(drop_list,inplace=True)\n",
        "df.reset_index(drop=False,inplace=True)\n",
        "del df['index']\n",
        "df.shape"
      ],
      "execution_count": 0,
      "outputs": [
        {
          "output_type": "execute_result",
          "data": {
            "text/plain": [
              "(811, 6)"
            ]
          },
          "metadata": {
            "tags": []
          },
          "execution_count": 51
        }
      ]
    },
    {
      "cell_type": "markdown",
      "metadata": {
        "id": "MiIoBIrsEWUo",
        "colab_type": "text"
      },
      "source": [
        "## Step 3: Group by number of competitors:"
      ]
    },
    {
      "cell_type": "code",
      "metadata": {
        "id": "oGzQZptErvN5",
        "colab_type": "code",
        "outputId": "002074da-494f-4fdc-9c32-7c3427c0bd1f",
        "colab": {
          "base_uri": "https://localhost:8080/",
          "height": 457
        }
      },
      "source": [
        "number=pd.DataFrame()\n",
        "number['number']=sorted(df['number'].unique())\n",
        "number['count']=[i for i in df.groupby('number')['id'].count()]\n",
        "number['Average Likes']=[i for i in df.groupby('number')['likes'].mean()]\n",
        "number"
      ],
      "execution_count": 0,
      "outputs": [
        {
          "output_type": "execute_result",
          "data": {
            "text/html": [
              "<div>\n",
              "<style scoped>\n",
              "    .dataframe tbody tr th:only-of-type {\n",
              "        vertical-align: middle;\n",
              "    }\n",
              "\n",
              "    .dataframe tbody tr th {\n",
              "        vertical-align: top;\n",
              "    }\n",
              "\n",
              "    .dataframe thead th {\n",
              "        text-align: right;\n",
              "    }\n",
              "</style>\n",
              "<table border=\"1\" class=\"dataframe\">\n",
              "  <thead>\n",
              "    <tr style=\"text-align: right;\">\n",
              "      <th></th>\n",
              "      <th>number</th>\n",
              "      <th>count</th>\n",
              "      <th>Average Likes</th>\n",
              "    </tr>\n",
              "  </thead>\n",
              "  <tbody>\n",
              "    <tr>\n",
              "      <th>0</th>\n",
              "      <td>0</td>\n",
              "      <td>814</td>\n",
              "      <td>67.326781</td>\n",
              "    </tr>\n",
              "    <tr>\n",
              "      <th>1</th>\n",
              "      <td>1</td>\n",
              "      <td>385</td>\n",
              "      <td>82.566234</td>\n",
              "    </tr>\n",
              "    <tr>\n",
              "      <th>2</th>\n",
              "      <td>2</td>\n",
              "      <td>177</td>\n",
              "      <td>118.711864</td>\n",
              "    </tr>\n",
              "    <tr>\n",
              "      <th>3</th>\n",
              "      <td>3</td>\n",
              "      <td>121</td>\n",
              "      <td>111.867769</td>\n",
              "    </tr>\n",
              "    <tr>\n",
              "      <th>4</th>\n",
              "      <td>4</td>\n",
              "      <td>81</td>\n",
              "      <td>78.407407</td>\n",
              "    </tr>\n",
              "    <tr>\n",
              "      <th>5</th>\n",
              "      <td>5</td>\n",
              "      <td>34</td>\n",
              "      <td>53.823529</td>\n",
              "    </tr>\n",
              "    <tr>\n",
              "      <th>6</th>\n",
              "      <td>6</td>\n",
              "      <td>23</td>\n",
              "      <td>128.304348</td>\n",
              "    </tr>\n",
              "    <tr>\n",
              "      <th>7</th>\n",
              "      <td>7</td>\n",
              "      <td>13</td>\n",
              "      <td>108.538462</td>\n",
              "    </tr>\n",
              "    <tr>\n",
              "      <th>8</th>\n",
              "      <td>8</td>\n",
              "      <td>8</td>\n",
              "      <td>140.625000</td>\n",
              "    </tr>\n",
              "    <tr>\n",
              "      <th>9</th>\n",
              "      <td>9</td>\n",
              "      <td>5</td>\n",
              "      <td>167.000000</td>\n",
              "    </tr>\n",
              "    <tr>\n",
              "      <th>10</th>\n",
              "      <td>10</td>\n",
              "      <td>3</td>\n",
              "      <td>194.000000</td>\n",
              "    </tr>\n",
              "    <tr>\n",
              "      <th>11</th>\n",
              "      <td>11</td>\n",
              "      <td>6</td>\n",
              "      <td>87.666667</td>\n",
              "    </tr>\n",
              "    <tr>\n",
              "      <th>12</th>\n",
              "      <td>12</td>\n",
              "      <td>1</td>\n",
              "      <td>128.000000</td>\n",
              "    </tr>\n",
              "  </tbody>\n",
              "</table>\n",
              "</div>"
            ],
            "text/plain": [
              "    number  count  Average Likes\n",
              "0        0    814      67.326781\n",
              "1        1    385      82.566234\n",
              "2        2    177     118.711864\n",
              "3        3    121     111.867769\n",
              "4        4     81      78.407407\n",
              "5        5     34      53.823529\n",
              "6        6     23     128.304348\n",
              "7        7     13     108.538462\n",
              "8        8      8     140.625000\n",
              "9        9      5     167.000000\n",
              "10      10      3     194.000000\n",
              "11      11      6      87.666667\n",
              "12      12      1     128.000000"
            ]
          },
          "metadata": {
            "tags": []
          },
          "execution_count": 57
        }
      ]
    },
    {
      "cell_type": "code",
      "metadata": {
        "id": "UWv-fde22rCd",
        "colab_type": "code",
        "outputId": "263228a9-534b-4c49-9b66-937f808a98d7",
        "colab": {
          "base_uri": "https://localhost:8080/",
          "height": 283
        }
      },
      "source": [
        "limit=6\n",
        "color1='#cc7b2b'\n",
        "color2='grey'\n",
        "\n",
        "plt.figure()\n",
        "\n",
        "ax1=plt.subplot(111)\n",
        "plt.scatter(number['number'][0:limit],number['Average Likes'][0:limit],color=color1,marker='x')\n",
        "plt.plot(number['number'][0:limit],number['Average Likes'][0:limit],color=color1)\n",
        "plt.ylim([0,30])\n",
        "plt.title('')\n",
        "plt.xlabel('Number of Competitors')\n",
        "plt.ylabel('Average Number of Likes',color=color1)\n",
        "ax1.spines['top'].set_visible(False)\n",
        "ax1.yaxis.label.set_color(color1)\n",
        "ax1.tick_params(axis='y', colors=color1)\n",
        "\n",
        "ax2 = ax1.twinx()\n",
        "plt.bar(number['number'][0:limit], number['count'][0:limit],color=color2,width=0.1,alpha=0.3)\n",
        "ax2.tick_params(axis='y', colors=color2)\n",
        "ax2.yaxis.label.set_color(color2)\n",
        "ax2.spines['top'].set_visible(False)\n",
        "plt.ylabel('Count of Observations',color=color2)\n",
        "\n",
        "plt.show()"
      ],
      "execution_count": 0,
      "outputs": [
        {
          "output_type": "display_data",
          "data": {
            "image/png": "[encoded data removed]",
            "text/plain": [
              "<Figure size 432x288 with 2 Axes>"
            ]
          },
          "metadata": {
            "tags": []
          }
        }
      ]
    },
    {
      "cell_type": "markdown",
      "metadata": {
        "id": "WY3oQ4R-Rfx7",
        "colab_type": "text"
      },
      "source": [
        "## Step 3: Boxplot"
      ]
    },
    {
      "cell_type": "markdown",
      "metadata": {
        "id": "Cy8QGeToR6cv",
        "colab_type": "text"
      },
      "source": [
        "We would like to see the distribution of each number of competitor"
      ]
    },
    {
      "cell_type": "code",
      "metadata": {
        "id": "6HkE4uvh3iZ1",
        "colab_type": "code",
        "colab": {}
      },
      "source": [
        "limit=df.shape[0]\n",
        "\n",
        "NumberOfComp0=[]\n",
        "for i in range(limit):\n",
        "  if df['number'][i]==0:\n",
        "    NumberOfComp0.append(df['likes'][i])\n",
        "\n",
        "NumberOfComp1=[]\n",
        "for i in range(limit):\n",
        "  if df['number'][i]==1:\n",
        "    NumberOfComp1.append(df['likes'][i])\n",
        "\n",
        "NumberOfComp2=[]\n",
        "for i in range(limit):\n",
        "  if df['number'][i]==2:\n",
        "    NumberOfComp2.append(df['likes'][i])\n",
        "\n",
        "NumberOfComp3=[]\n",
        "for i in range(limit):\n",
        "  if df['number'][i]==3:\n",
        "    NumberOfComp3.append(df['likes'][i])\n",
        "\n",
        "NumberOfComp4=[]\n",
        "for i in range(limit):\n",
        "  if df['number'][i]==4:\n",
        "    NumberOfComp4.append(df['likes'][i])\n",
        "\n",
        "NumberOfComp5=[]\n",
        "for i in range(limit):\n",
        "  if df['number'][i]==5:\n",
        "    NumberOfComp5.append(df['likes'][i])"
      ],
      "execution_count": 0,
      "outputs": []
    },
    {
      "cell_type": "code",
      "metadata": {
        "id": "ww5Ujt-LSd9A",
        "colab_type": "code",
        "outputId": "b78dd979-c7aa-4a31-e9b3-c4c5e2298fec",
        "colab": {
          "base_uri": "https://localhost:8080/",
          "height": 288
        }
      },
      "source": [
        "plt.figure()\n",
        "plt.boxplot([NumberOfComp0,NumberOfComp1,NumberOfComp2,NumberOfComp3,NumberOfComp4,NumberOfComp5],whis=[5,95]);\n",
        "plt.ylim([0, 250])"
      ],
      "execution_count": 0,
      "outputs": [
        {
          "output_type": "execute_result",
          "data": {
            "text/plain": [
              "(0, 250)"
            ]
          },
          "metadata": {
            "tags": []
          },
          "execution_count": 55
        },
        {
          "output_type": "display_data",
          "data": {
            "image/png": "[encoded data removed]",
            "text/plain": [
              "<Figure size 432x288 with 1 Axes>"
            ]
          },
          "metadata": {
            "tags": []
          }
        }
      ]
    },
    {
      "cell_type": "markdown",
      "metadata": {
        "id": "hNcJ45vzXBlf",
        "colab_type": "text"
      },
      "source": [
        "The result is ugly!"
      ]
    },
    {
      "cell_type": "code",
      "metadata": {
        "id": "Ge-OqkikWl3t",
        "colab_type": "code",
        "colab": {}
      },
      "source": [
        "Quantiles=np.arange(0,1,0.01)\n",
        "comps=[[],[],[],[],[],[]]\n",
        "comp=[NumberOfComp0,NumberOfComp1,NumberOfComp2,NumberOfComp3,NumberOfComp4,NumberOfComp5]\n",
        "\n",
        "for j in range(6):\n",
        "  for i in Quantiles:\n",
        "    comps[j].append(np.quantile(comp[j],i))"
      ],
      "execution_count": 0,
      "outputs": []
    },
    {
      "cell_type": "code",
      "metadata": {
        "id": "08o7daePXoGg",
        "colab_type": "code",
        "colab": {}
      },
      "source": [
        "c=['#0a82fa','#086dd1','#0654a1','#053d75','#032a52','red']\n",
        "\n",
        "def myplot(x=0,xlim=0.99,colors=c,y='max'):\n",
        "  \n",
        "  ax=plt.subplot()\n",
        "\n",
        "  ylim=int(xlim/0.01)\n",
        "\n",
        "  ax.spines['top'].set_visible(False)\n",
        "  ax.spines['right'].set_visible(False)\n",
        "\n",
        "  for i in range(6):\n",
        "    plt.plot(Quantiles,comps[i],color=colors[i])\n",
        "    ax.annotate(xy=(xlim,comps[i][ylim]),s='{}'.format(i),color=colors[i])\n",
        "\n",
        "  plt.xlim([x,xlim])\n",
        "  if y != 'max':\n",
        "    plt.ylim([0,y])\n",
        "\n",
        "  plt.xlabel('Quantile')\n",
        "  plt.ylabel('Average Number of Likes')\n",
        "  plt.show()"
      ],
      "execution_count": 0,
      "outputs": []
    },
    {
      "cell_type": "markdown",
      "metadata": {
        "id": "e2n6t5vTmYPS",
        "colab_type": "text"
      },
      "source": [
        ""
      ]
    },
    {
      "cell_type": "code",
      "metadata": {
        "id": "Y1VSLNXdj89a",
        "colab_type": "code",
        "outputId": "15d0d8e2-6ee0-4609-c9f1-065babe94a2e",
        "colab": {
          "base_uri": "https://localhost:8080/",
          "height": 283
        }
      },
      "source": [
        "myplot(x=0,xlim=0.5,y=35)"
      ],
      "execution_count": 0,
      "outputs": [
        {
          "output_type": "display_data",
          "data": {
            "image/png": "[encoded data removed]",
            "text/plain": [
              "<Figure size 432x288 with 1 Axes>"
            ]
          },
          "metadata": {
            "tags": []
          }
        }
      ]
    },
    {
      "cell_type": "code",
      "metadata": {
        "id": "5hBQAo1EnYML",
        "colab_type": "code",
        "outputId": "8264d019-007f-4714-88cf-1dcd0f28dca3",
        "colab": {
          "base_uri": "https://localhost:8080/",
          "height": 283
        }
      },
      "source": [
        "myplot(x=0.5,xlim=0.65,y=100)"
      ],
      "execution_count": 0,
      "outputs": [
        {
          "output_type": "display_data",
          "data": {
            "image/png": "[encoded data removed]",
            "text/plain": [
              "<Figure size 432x288 with 1 Axes>"
            ]
          },
          "metadata": {
            "tags": []
          }
        }
      ]
    },
    {
      "cell_type": "markdown",
      "metadata": {
        "id": "ndJA7ikKoTEZ",
        "colab_type": "text"
      },
      "source": [
        "## Another histogram"
      ]
    },
    {
      "cell_type": "markdown",
      "metadata": {
        "id": "7y6y_BNQodph",
        "colab_type": "text"
      },
      "source": [
        "What is the probability that a cafe with x neighborhoods will receive at least x number of likes?"
      ]
    },
    {
      "cell_type": "code",
      "metadata": {
        "id": "8DAZbnU3odEh",
        "colab_type": "code",
        "colab": {}
      },
      "source": [
        "def propability(n,x,l=0):\n",
        "  count=0\n",
        "  for i in comp[n]:\n",
        "    if i>x:\n",
        "      count +=1\n",
        "  return(count/len(comp[n]))\n"
      ],
      "execution_count": 0,
      "outputs": []
    },
    {
      "cell_type": "code",
      "metadata": {
        "id": "0-_blltk-0-f",
        "colab_type": "code",
        "colab": {}
      },
      "source": [
        "probs=[[],[],[],[],[],[]]\n",
        "for j in range(6):\n",
        "  for i in range(500):\n",
        "    probs[j].append(propability(j,i))"
      ],
      "execution_count": 0,
      "outputs": []
    },
    {
      "cell_type": "code",
      "metadata": {
        "id": "lQnjgBsOAVd-",
        "colab_type": "code",
        "outputId": "f2a15e32-0272-4c7c-e2bf-55c568a8526b",
        "colab": {
          "base_uri": "https://localhost:8080/",
          "height": 298
        }
      },
      "source": [
        "c=['#0a82fa','red','#086dd1','#0654a1','#053d75','#032a52','red']\n",
        "\n",
        "ax=plt.subplot()\n",
        "ax.spines['top'].set_visible(False)\n",
        "ax.spines['right'].set_visible(False)\n",
        "plt.xlabel('Number of Likes')\n",
        "plt.ylabel('Propability')\n",
        "\n",
        "for i in [3,4]:\n",
        "  plt.plot(probs[i],color=c[i])\n",
        "  ax.annotate(xy=(150,1-0.05*i),s='{} Competitors Nearby'.format(i),color=c[i])\n",
        "plt.xlim([0,200])"
      ],
      "execution_count": 0,
      "outputs": [
        {
          "output_type": "execute_result",
          "data": {
            "text/plain": [
              "(0, 200)"
            ]
          },
          "metadata": {
            "tags": []
          },
          "execution_count": 70
        },
        {
          "output_type": "display_data",
          "data": {
            "image/png": "[encoded data removed]",
            "text/plain": [
              "<Figure size 432x288 with 1 Axes>"
            ]
          },
          "metadata": {
            "tags": []
          }
        }
      ]
    },
    {
      "cell_type": "code",
      "metadata": {
        "id": "988RoxDkDi5O",
        "colab_type": "code",
        "colab": {}
      },
      "source": [
        ""
      ],
      "execution_count": 0,
      "outputs": []
    },
    {
      "cell_type": "markdown",
      "metadata": {
        "id": "MsKHOzK0THX6",
        "colab_type": "text"
      },
      "source": [
        "## Atte,pt2"
      ]
    },
    {
      "cell_type": "code",
      "metadata": {
        "id": "lH3cynJdTJAS",
        "colab_type": "code",
        "colab": {}
      },
      "source": [
        "df=pd.read_csv('cafes50.csv')\n",
        "import matplotlib.pyplot as plt \n",
        "% matplotlib inline"
      ],
      "execution_count": 0,
      "outputs": []
    },
    {
      "cell_type": "code",
      "metadata": {
        "id": "xAuM5B-WTV_m",
        "colab_type": "code",
        "outputId": "87fd08fe-405c-4c3c-884a-cb3b8b7d247e",
        "colab": {
          "base_uri": "https://localhost:8080/",
          "height": 269
        }
      },
      "source": [
        "number=pd.DataFrame()\n",
        "number['Total']=[i for i in df.groupby('number')['id'].count()][0:7]\n",
        "\n",
        "helplist=[[] for i in range(10)]\n",
        "for j,i in enumerate(range(10,110,10),0):\n",
        "  helplist[j]=[i for i in df[df['likes']>i].groupby('number')['likes'].count()][0:7]\n",
        "  number['{}'.format(i)]=helplist[j]/number['Total']\n",
        "\n",
        "number"
      ],
      "execution_count": 0,
      "outputs": [
        {
          "output_type": "execute_result",
          "data": {
            "text/html": [
              "<div>\n",
              "<style scoped>\n",
              "    .dataframe tbody tr th:only-of-type {\n",
              "        vertical-align: middle;\n",
              "    }\n",
              "\n",
              "    .dataframe tbody tr th {\n",
              "        vertical-align: top;\n",
              "    }\n",
              "\n",
              "    .dataframe thead th {\n",
              "        text-align: right;\n",
              "    }\n",
              "</style>\n",
              "<table border=\"1\" class=\"dataframe\">\n",
              "  <thead>\n",
              "    <tr style=\"text-align: right;\">\n",
              "      <th></th>\n",
              "      <th>Total</th>\n",
              "      <th>10</th>\n",
              "      <th>20</th>\n",
              "      <th>30</th>\n",
              "      <th>40</th>\n",
              "      <th>50</th>\n",
              "      <th>60</th>\n",
              "      <th>70</th>\n",
              "      <th>80</th>\n",
              "      <th>90</th>\n",
              "      <th>100</th>\n",
              "    </tr>\n",
              "  </thead>\n",
              "  <tbody>\n",
              "    <tr>\n",
              "      <th>0</th>\n",
              "      <td>814</td>\n",
              "      <td>0.524570</td>\n",
              "      <td>0.394349</td>\n",
              "      <td>0.326781</td>\n",
              "      <td>0.280098</td>\n",
              "      <td>0.233415</td>\n",
              "      <td>0.207617</td>\n",
              "      <td>0.184275</td>\n",
              "      <td>0.167076</td>\n",
              "      <td>0.152334</td>\n",
              "      <td>0.140049</td>\n",
              "    </tr>\n",
              "    <tr>\n",
              "      <th>1</th>\n",
              "      <td>385</td>\n",
              "      <td>0.553247</td>\n",
              "      <td>0.428571</td>\n",
              "      <td>0.368831</td>\n",
              "      <td>0.329870</td>\n",
              "      <td>0.272727</td>\n",
              "      <td>0.251948</td>\n",
              "      <td>0.228571</td>\n",
              "      <td>0.212987</td>\n",
              "      <td>0.202597</td>\n",
              "      <td>0.187013</td>\n",
              "    </tr>\n",
              "    <tr>\n",
              "      <th>2</th>\n",
              "      <td>177</td>\n",
              "      <td>0.615819</td>\n",
              "      <td>0.508475</td>\n",
              "      <td>0.446328</td>\n",
              "      <td>0.367232</td>\n",
              "      <td>0.333333</td>\n",
              "      <td>0.299435</td>\n",
              "      <td>0.276836</td>\n",
              "      <td>0.259887</td>\n",
              "      <td>0.231638</td>\n",
              "      <td>0.231638</td>\n",
              "    </tr>\n",
              "    <tr>\n",
              "      <th>3</th>\n",
              "      <td>121</td>\n",
              "      <td>0.677686</td>\n",
              "      <td>0.545455</td>\n",
              "      <td>0.495868</td>\n",
              "      <td>0.429752</td>\n",
              "      <td>0.404959</td>\n",
              "      <td>0.355372</td>\n",
              "      <td>0.314050</td>\n",
              "      <td>0.272727</td>\n",
              "      <td>0.272727</td>\n",
              "      <td>0.239669</td>\n",
              "    </tr>\n",
              "    <tr>\n",
              "      <th>4</th>\n",
              "      <td>81</td>\n",
              "      <td>0.506173</td>\n",
              "      <td>0.395062</td>\n",
              "      <td>0.370370</td>\n",
              "      <td>0.345679</td>\n",
              "      <td>0.345679</td>\n",
              "      <td>0.320988</td>\n",
              "      <td>0.259259</td>\n",
              "      <td>0.234568</td>\n",
              "      <td>0.222222</td>\n",
              "      <td>0.209877</td>\n",
              "    </tr>\n",
              "    <tr>\n",
              "      <th>5</th>\n",
              "      <td>34</td>\n",
              "      <td>0.705882</td>\n",
              "      <td>0.529412</td>\n",
              "      <td>0.441176</td>\n",
              "      <td>0.382353</td>\n",
              "      <td>0.294118</td>\n",
              "      <td>0.264706</td>\n",
              "      <td>0.235294</td>\n",
              "      <td>0.205882</td>\n",
              "      <td>0.176471</td>\n",
              "      <td>0.117647</td>\n",
              "    </tr>\n",
              "    <tr>\n",
              "      <th>6</th>\n",
              "      <td>23</td>\n",
              "      <td>0.695652</td>\n",
              "      <td>0.695652</td>\n",
              "      <td>0.565217</td>\n",
              "      <td>0.478261</td>\n",
              "      <td>0.478261</td>\n",
              "      <td>0.434783</td>\n",
              "      <td>0.434783</td>\n",
              "      <td>0.434783</td>\n",
              "      <td>0.391304</td>\n",
              "      <td>0.347826</td>\n",
              "    </tr>\n",
              "  </tbody>\n",
              "</table>\n",
              "</div>"
            ],
            "text/plain": [
              "   Total        10        20        30  ...        70        80        90       100\n",
              "0    814  0.524570  0.394349  0.326781  ...  0.184275  0.167076  0.152334  0.140049\n",
              "1    385  0.553247  0.428571  0.368831  ...  0.228571  0.212987  0.202597  0.187013\n",
              "2    177  0.615819  0.508475  0.446328  ...  0.276836  0.259887  0.231638  0.231638\n",
              "3    121  0.677686  0.545455  0.495868  ...  0.314050  0.272727  0.272727  0.239669\n",
              "4     81  0.506173  0.395062  0.370370  ...  0.259259  0.234568  0.222222  0.209877\n",
              "5     34  0.705882  0.529412  0.441176  ...  0.235294  0.205882  0.176471  0.117647\n",
              "6     23  0.695652  0.695652  0.565217  ...  0.434783  0.434783  0.391304  0.347826\n",
              "\n",
              "[7 rows x 11 columns]"
            ]
          },
          "metadata": {
            "tags": []
          },
          "execution_count": 96
        }
      ]
    },
    {
      "cell_type": "code",
      "metadata": {
        "id": "lGIFSlmZV1wx",
        "colab_type": "code",
        "outputId": "b2b3d2de-ec63-4e2a-8b41-e598f77d6667",
        "colab": {
          "base_uri": "https://localhost:8080/",
          "height": 265
        }
      },
      "source": [
        "c=['red','#0a82fa','#086dd1','#0654a1','#053d75','#032a52','black']\n",
        "for i in range(2):\n",
        "  helplist=[]\n",
        "  for j in range(10,110,10):\n",
        "    helplist.append(number.iloc[[i],1:11]['{}'.format(j)][i])\n",
        "  plt.plot(range(10,110,10),helplist,color=c[i])"
      ],
      "execution_count": 0,
      "outputs": [
        {
          "output_type": "display_data",
          "data": {
            "image/png": "[encoded data removed]",
            "text/plain": [
              "<Figure size 432x288 with 1 Axes>"
            ]
          },
          "metadata": {
            "tags": []
          }
        }
      ]
    },
    {
      "cell_type": "markdown",
      "metadata": {
        "id": "1FeBP5QzelKP",
        "colab_type": "text"
      },
      "source": [
        "We will group in 3 categories:"
      ]
    },
    {
      "cell_type": "code",
      "metadata": {
        "id": "j_Q4ZuJ6fuZd",
        "colab_type": "code",
        "outputId": "9bdc80e3-5a58-4947-b487-55baa4155223",
        "colab": {
          "base_uri": "https://localhost:8080/",
          "height": 112
        }
      },
      "source": [
        "helplist=[]\n",
        "for i in range(df.shape[0]):\n",
        "  if df['number'][i]==0:\n",
        "    helplist.append('No')\n",
        "  elif df['number'][i]==1 or df['number'][i]==2:\n",
        "    helplist.append('Few')\n",
        "  else:\n",
        "    helplist.append('Many')\n",
        "\n",
        "df['Category']=helplist\n",
        "df.head(2)"
      ],
      "execution_count": 0,
      "outputs": [
        {
          "output_type": "execute_result",
          "data": {
            "text/html": [
              "<div>\n",
              "<style scoped>\n",
              "    .dataframe tbody tr th:only-of-type {\n",
              "        vertical-align: middle;\n",
              "    }\n",
              "\n",
              "    .dataframe tbody tr th {\n",
              "        vertical-align: top;\n",
              "    }\n",
              "\n",
              "    .dataframe thead th {\n",
              "        text-align: right;\n",
              "    }\n",
              "</style>\n",
              "<table border=\"1\" class=\"dataframe\">\n",
              "  <thead>\n",
              "    <tr style=\"text-align: right;\">\n",
              "      <th></th>\n",
              "      <th>id</th>\n",
              "      <th>name</th>\n",
              "      <th>neighborhood</th>\n",
              "      <th>number</th>\n",
              "      <th>average</th>\n",
              "      <th>likes</th>\n",
              "      <th>Category</th>\n",
              "    </tr>\n",
              "  </thead>\n",
              "  <tbody>\n",
              "    <tr>\n",
              "      <th>0</th>\n",
              "      <td>513b7cfbe4b0334da3ca912f</td>\n",
              "      <td>Ethno Cafe</td>\n",
              "      <td>Agia Paraskevi</td>\n",
              "      <td>0</td>\n",
              "      <td>NaN</td>\n",
              "      <td>17</td>\n",
              "      <td>No</td>\n",
              "    </tr>\n",
              "    <tr>\n",
              "      <th>1</th>\n",
              "      <td>4bddd6bf0ee3a593d7da2eb0</td>\n",
              "      <td>Posto Γωνιά</td>\n",
              "      <td>Agia Paraskevi</td>\n",
              "      <td>2</td>\n",
              "      <td>57.5</td>\n",
              "      <td>29</td>\n",
              "      <td>Few</td>\n",
              "    </tr>\n",
              "  </tbody>\n",
              "</table>\n",
              "</div>"
            ],
            "text/plain": [
              "                         id         name  ... likes  Category\n",
              "0  513b7cfbe4b0334da3ca912f   Ethno Cafe  ...    17        No\n",
              "1  4bddd6bf0ee3a593d7da2eb0  Posto Γωνιά  ...    29       Few\n",
              "\n",
              "[2 rows x 7 columns]"
            ]
          },
          "metadata": {
            "tags": []
          },
          "execution_count": 169
        }
      ]
    },
    {
      "cell_type": "code",
      "metadata": {
        "id": "ULR7j9v7hTVz",
        "colab_type": "code",
        "outputId": "4d087c10-5229-4e19-b5e8-36654df31406",
        "colab": {
          "base_uri": "https://localhost:8080/",
          "height": 143
        }
      },
      "source": [
        "number=pd.DataFrame()\n",
        "number['Category']=sorted(df['Category'].unique())\n",
        "number['Count']=[i for i in df.groupby('Category')['id'].count()]\n",
        "number['Average Likes']=[i for i in df.groupby('Category')['likes'].median()]\n",
        "number"
      ],
      "execution_count": 0,
      "outputs": [
        {
          "output_type": "execute_result",
          "data": {
            "text/html": [
              "<div>\n",
              "<style scoped>\n",
              "    .dataframe tbody tr th:only-of-type {\n",
              "        vertical-align: middle;\n",
              "    }\n",
              "\n",
              "    .dataframe tbody tr th {\n",
              "        vertical-align: top;\n",
              "    }\n",
              "\n",
              "    .dataframe thead th {\n",
              "        text-align: right;\n",
              "    }\n",
              "</style>\n",
              "<table border=\"1\" class=\"dataframe\">\n",
              "  <thead>\n",
              "    <tr style=\"text-align: right;\">\n",
              "      <th></th>\n",
              "      <th>Category</th>\n",
              "      <th>Count</th>\n",
              "      <th>Average Likes</th>\n",
              "    </tr>\n",
              "  </thead>\n",
              "  <tbody>\n",
              "    <tr>\n",
              "      <th>0</th>\n",
              "      <td>Few</td>\n",
              "      <td>464</td>\n",
              "      <td>10</td>\n",
              "    </tr>\n",
              "    <tr>\n",
              "      <th>1</th>\n",
              "      <td>Many</td>\n",
              "      <td>228</td>\n",
              "      <td>13</td>\n",
              "    </tr>\n",
              "    <tr>\n",
              "      <th>2</th>\n",
              "      <td>No</td>\n",
              "      <td>715</td>\n",
              "      <td>9</td>\n",
              "    </tr>\n",
              "  </tbody>\n",
              "</table>\n",
              "</div>"
            ],
            "text/plain": [
              "  Category  Count  Average Likes\n",
              "0      Few    464             10\n",
              "1     Many    228             13\n",
              "2       No    715              9"
            ]
          },
          "metadata": {
            "tags": []
          },
          "execution_count": 181
        }
      ]
    },
    {
      "cell_type": "code",
      "metadata": {
        "id": "Kfe9zJNLjVWK",
        "colab_type": "code",
        "outputId": "adaaa0dc-7f93-4fa7-d225-2c27e669d982",
        "colab": {
          "base_uri": "https://localhost:8080/",
          "height": 36
        }
      },
      "source": [
        "drop_list=[]\n",
        "for i in range(df.shape[0]):\n",
        "  if df['likes'][i]>120:\n",
        "    drop_list.append(i)\n",
        "df.drop(drop_list,inplace=True)\n",
        "df.reset_index(drop=False,inplace=True)\n",
        "del df['index']\n",
        "df.shape"
      ],
      "execution_count": 0,
      "outputs": [
        {
          "output_type": "execute_result",
          "data": {
            "text/plain": [
              "(1407, 7)"
            ]
          },
          "metadata": {
            "tags": []
          },
          "execution_count": 180
        }
      ]
    },
    {
      "cell_type": "code",
      "metadata": {
        "id": "f0rbTsqMEwne",
        "colab_type": "code",
        "colab": {}
      },
      "source": [
        "df=pd.read_csv('cafes50.csv')\n",
        "import matplotlib.pyplot as plt \n",
        "% matplotlib inline"
      ],
      "execution_count": 0,
      "outputs": []
    },
    {
      "cell_type": "markdown",
      "metadata": {
        "id": "V4gnCLbDWV7I",
        "colab_type": "text"
      },
      "source": [
        "## Examine NeighborHoods"
      ]
    },
    {
      "cell_type": "code",
      "metadata": {
        "id": "bcjlbApKWJkK",
        "colab_type": "code",
        "outputId": "f8bc62a8-bdc5-46e1-e34b-8fefe2bc5967",
        "colab": {
          "base_uri": "https://localhost:8080/",
          "height": 143
        }
      },
      "source": [
        "neighborhood=pd.DataFrame()\n",
        "neighborhood['neighborhood']=sorted(df['neighborhood'].unique())\n",
        "neighborhood['count']=[i for i in df.groupby('neighborhood')['id'].count()]\n",
        "neighborhood['Average Likes']=[i for i in df.groupby('neighborhood')['likes'].mean()]\n",
        "neighborhood.head(3)"
      ],
      "execution_count": 0,
      "outputs": [
        {
          "output_type": "execute_result",
          "data": {
            "text/html": [
              "<div>\n",
              "<style scoped>\n",
              "    .dataframe tbody tr th:only-of-type {\n",
              "        vertical-align: middle;\n",
              "    }\n",
              "\n",
              "    .dataframe tbody tr th {\n",
              "        vertical-align: top;\n",
              "    }\n",
              "\n",
              "    .dataframe thead th {\n",
              "        text-align: right;\n",
              "    }\n",
              "</style>\n",
              "<table border=\"1\" class=\"dataframe\">\n",
              "  <thead>\n",
              "    <tr style=\"text-align: right;\">\n",
              "      <th></th>\n",
              "      <th>neighborhood</th>\n",
              "      <th>count</th>\n",
              "      <th>Average Likes</th>\n",
              "    </tr>\n",
              "  </thead>\n",
              "  <tbody>\n",
              "    <tr>\n",
              "      <th>0</th>\n",
              "      <td>Agia Paraskevi</td>\n",
              "      <td>100</td>\n",
              "      <td>155.32</td>\n",
              "    </tr>\n",
              "    <tr>\n",
              "      <th>1</th>\n",
              "      <td>Agia Varvara</td>\n",
              "      <td>100</td>\n",
              "      <td>65.90</td>\n",
              "    </tr>\n",
              "    <tr>\n",
              "      <th>2</th>\n",
              "      <td>Alimos</td>\n",
              "      <td>100</td>\n",
              "      <td>63.68</td>\n",
              "    </tr>\n",
              "  </tbody>\n",
              "</table>\n",
              "</div>"
            ],
            "text/plain": [
              "     neighborhood  count  Average Likes\n",
              "0  Agia Paraskevi    100         155.32\n",
              "1    Agia Varvara    100          65.90\n",
              "2          Alimos    100          63.68"
            ]
          },
          "metadata": {
            "tags": []
          },
          "execution_count": 143
        }
      ]
    },
    {
      "cell_type": "code",
      "metadata": {
        "id": "_9hu5xzXWRpW",
        "colab_type": "code",
        "outputId": "08848893-ae39-42a2-806c-5bf47f29bc99",
        "colab": {
          "base_uri": "https://localhost:8080/",
          "height": 289
        }
      },
      "source": [
        "ax=plt.subplot()\n",
        "\n",
        "List_I_Want_Annotated=[3,12,19,15,34,36,10]\n",
        "Colors_Of_Future_Annotated=['blue','red','green','grey','purple','black','orange']\n",
        "Colors_Of_Future_Annotated2=Colors_Of_Future_Annotated.copy()\n",
        "Color=[]\n",
        "for i in range(38):\n",
        "  if i not in List_I_Want_Annotated:\n",
        "    Color.append('White')\n",
        "  else:\n",
        "    Color.append(Colors_Of_Future_Annotated[0])\n",
        "    del Colors_Of_Future_Annotated[0]\n",
        "\n",
        "plt.scatter(neighborhood['count'],neighborhood['Average Likes'],edgecolor='black',color=Color)\n",
        "\n",
        "for i,text in enumerate(neighborhood['neighborhood'],0):\n",
        "  if i in List_I_Want_Annotated:\n",
        "    ax.annotate(text,(neighborhood['count'][i],neighborhood['Average Likes'][i]),\n",
        "                xytext=(neighborhood['count'][i]-5,neighborhood['Average Likes'][i]+20),\n",
        "                color=Colors_Of_Future_Annotated2[0])\n",
        "    del Colors_Of_Future_Annotated2[0]\n",
        "\n",
        "ax.spines['top'].set_visible(False)\n",
        "ax.spines['right'].set_visible(False)\n",
        "\n",
        "plt.xlabel('Number of Observations')\n",
        "plt.ylabel('Average Number of Likes')\n",
        "\n",
        "plt.show()"
      ],
      "execution_count": 0,
      "outputs": [
        {
          "output_type": "display_data",
          "data": {
            "image/png": "[encoded data removed]",
            "text/plain": [
              "<Figure size 432x288 with 1 Axes>"
            ]
          },
          "metadata": {
            "tags": []
          }
        }
      ]
    },
    {
      "cell_type": "markdown",
      "metadata": {
        "id": "qqRZijZlWZIx",
        "colab_type": "text"
      },
      "source": [
        "## Examine The Dataset"
      ]
    },
    {
      "cell_type": "code",
      "metadata": {
        "id": "OtHT-GMaE0Ls",
        "colab_type": "code",
        "outputId": "9695ae8f-7a0c-4531-b72e-ac22c1d5f119",
        "colab": {
          "base_uri": "https://localhost:8080/",
          "height": 359
        }
      },
      "source": [
        "fig=plt.figure()\n",
        "\n",
        "plt.subplot(121)\n",
        "ax1=plt.subplot(121)\n",
        "ax1.spines['top'].set_visible(False)\n",
        "ax1.spines['right'].set_visible(False)\n",
        "plt.ylabel('Number of Likes')\n",
        "plt.boxplot(df['likes'],labels=['Unzoomed Version'])\n",
        "\n",
        "plt.subplot(122)\n",
        "plt.boxplot(df['likes'],labels=['Zoomed Version'])\n",
        "ax2=plt.subplot(122)\n",
        "ax2.yaxis.set_label_position(\"right\")\n",
        "ax2.yaxis.tick_right()\n",
        "ax2.spines['top'].set_visible(False)\n",
        "ax2.spines['left'].set_visible(False)\n",
        "plt.ylabel('Number of Likes')\n",
        "plt.ylim([0,175])\n",
        "c=['blue','orange','blue','black']\n",
        "for j,i in enumerate([0.25,0.5,0.75,0.8623]):\n",
        "  ax2.axhline(xmin=0.17,xmax=0.41,y=np.quantile(df['likes'],i),color=c[j],linewidth=1,linestyle='dashed')\n",
        "  plt.annotate(s='{}'.format(round(np.quantile(df['likes'],i),1)),xy=(0.5,np.quantile(df['likes'],i)),color=c[j])\n",
        "\n",
        "plt.show();"
      ],
      "execution_count": 0,
      "outputs": [
        {
          "output_type": "stream",
          "text": [
            "/usr/local/lib/python3.6/dist-packages/ipykernel_launcher.py:4: MatplotlibDeprecationWarning: Adding an axes using the same arguments as a previous axes currently reuses the earlier instance.  In a future version, a new instance will always be created and returned.  Meanwhile, this warning can be suppressed, and the future behavior ensured, by passing a unique label to each axes instance.\n",
            "  after removing the cwd from sys.path.\n",
            "/usr/local/lib/python3.6/dist-packages/ipykernel_launcher.py:12: MatplotlibDeprecationWarning: Adding an axes using the same arguments as a previous axes currently reuses the earlier instance.  In a future version, a new instance will always be created and returned.  Meanwhile, this warning can be suppressed, and the future behavior ensured, by passing a unique label to each axes instance.\n",
            "  if sys.path[0] == '':\n"
          ],
          "name": "stderr"
        },
        {
          "output_type": "display_data",
          "data": {
            "image/png": "[encoded data removed]",
            "text/plain": [
              "<Figure size 432x288 with 2 Axes>"
            ]
          },
          "metadata": {
            "tags": []
          }
        }
      ]
    },
    {
      "cell_type": "markdown",
      "metadata": {
        "id": "Gy04juYVP-Lk",
        "colab_type": "text"
      },
      "source": [
        "We see that 86% of the data set is below 168 and 50% is below 16 and 25% is below 4. Anything above 168 will drastically affect any results"
      ]
    },
    {
      "cell_type": "markdown",
      "metadata": {
        "id": "eJeuuyC1RQAu",
        "colab_type": "text"
      },
      "source": [
        "Now any normalazation will not help because any addition,substraction, multiplication or division will keep the huge gap between the extremes and the normal observations. So we will remove anything above 168."
      ]
    },
    {
      "cell_type": "code",
      "metadata": {
        "id": "TzGly28YXG3x",
        "colab_type": "code",
        "outputId": "41c27025-8139-4553-8f0d-c6d0a5cf44b9",
        "colab": {
          "base_uri": "https://localhost:8080/",
          "height": 36
        }
      },
      "source": [
        "a=df.shape[0]\n",
        "df=df[df['likes']<169]\n",
        "df.reset_index(drop=False,inplace=True)\n",
        "del df['index']\n",
        "print('There were remove {} observations and now there exist {} observations'.format(a-df.shape[0],df.shape[0]))"
      ],
      "execution_count": 0,
      "outputs": [
        {
          "output_type": "stream",
          "text": [
            "There were remove 243 observations and now there exist 1528 observations\n"
          ],
          "name": "stdout"
        }
      ]
    },
    {
      "cell_type": "code",
      "metadata": {
        "id": "Pizf8oOnXuc_",
        "colab_type": "code",
        "outputId": "e86258f0-bcd9-4200-abf6-2f3fca3790b9",
        "colab": {
          "base_uri": "https://localhost:8080/",
          "height": 268
        }
      },
      "source": [
        "plt.boxplot(df['likes']);"
      ],
      "execution_count": 0,
      "outputs": [
        {
          "output_type": "display_data",
          "data": {
            "image/png": "[encoded data removed]",
            "text/plain": [
              "<Figure size 432x288 with 1 Axes>"
            ]
          },
          "metadata": {
            "tags": []
          }
        }
      ]
    },
    {
      "cell_type": "markdown",
      "metadata": {
        "id": "dWifIwlHWcQw",
        "colab_type": "text"
      },
      "source": [
        "## Adjust the DataSet for the neigborhood"
      ]
    },
    {
      "cell_type": "markdown",
      "metadata": {
        "id": "CuUpzFyRWg1O",
        "colab_type": "text"
      },
      "source": [
        "Each neighborhood is different and some are more beneficial than others. So we want to compare each cafe to the average cafe of the neighborhood instead to cafes from other neighborhoods. To take out the effect of the neighborhood we will use the max min formula:"
      ]
    },
    {
      "cell_type": "markdown",
      "metadata": {
        "id": "s6uHNFfrY1L-",
        "colab_type": "text"
      },
      "source": [
        "Cafe's Rating = Number Of Likes/ (max in its neighborhood - min in its neighborhood)"
      ]
    },
    {
      "cell_type": "code",
      "metadata": {
        "id": "K3RXRuMcY0co",
        "colab_type": "code",
        "outputId": "a5834967-5f41-43b7-ee63-d0102e574022",
        "colab": {
          "base_uri": "https://localhost:8080/",
          "height": 143
        }
      },
      "source": [
        "MaxMin=pd.DataFrame()\n",
        "MaxMin['neighborhood']=sorted(df['neighborhood'].unique())\n",
        "MaxMin['Max']=[i for i in df.groupby('neighborhood')['likes'].max()]\n",
        "MaxMin['Min']=[i for i in df.groupby('neighborhood')['likes'].min()]\n",
        "MaxMin['Mean']=[i for i in df.groupby('neighborhood')['likes'].mean()]\n",
        "MaxMin.head(3)"
      ],
      "execution_count": 0,
      "outputs": [
        {
          "output_type": "execute_result",
          "data": {
            "text/html": [
              "<div>\n",
              "<style scoped>\n",
              "    .dataframe tbody tr th:only-of-type {\n",
              "        vertical-align: middle;\n",
              "    }\n",
              "\n",
              "    .dataframe tbody tr th {\n",
              "        vertical-align: top;\n",
              "    }\n",
              "\n",
              "    .dataframe thead th {\n",
              "        text-align: right;\n",
              "    }\n",
              "</style>\n",
              "<table border=\"1\" class=\"dataframe\">\n",
              "  <thead>\n",
              "    <tr style=\"text-align: right;\">\n",
              "      <th></th>\n",
              "      <th>neighborhood</th>\n",
              "      <th>Max</th>\n",
              "      <th>Min</th>\n",
              "      <th>Mean</th>\n",
              "    </tr>\n",
              "  </thead>\n",
              "  <tbody>\n",
              "    <tr>\n",
              "      <th>0</th>\n",
              "      <td>Agia Paraskevi</td>\n",
              "      <td>166</td>\n",
              "      <td>0</td>\n",
              "      <td>35.325000</td>\n",
              "    </tr>\n",
              "    <tr>\n",
              "      <th>1</th>\n",
              "      <td>Agia Varvara</td>\n",
              "      <td>135</td>\n",
              "      <td>0</td>\n",
              "      <td>23.472527</td>\n",
              "    </tr>\n",
              "    <tr>\n",
              "      <th>2</th>\n",
              "      <td>Alimos</td>\n",
              "      <td>165</td>\n",
              "      <td>0</td>\n",
              "      <td>22.923913</td>\n",
              "    </tr>\n",
              "  </tbody>\n",
              "</table>\n",
              "</div>"
            ],
            "text/plain": [
              "     neighborhood  Max  Min       Mean\n",
              "0  Agia Paraskevi  166    0  35.325000\n",
              "1    Agia Varvara  135    0  23.472527\n",
              "2          Alimos  165    0  22.923913"
            ]
          },
          "metadata": {
            "tags": []
          },
          "execution_count": 177
        }
      ]
    },
    {
      "cell_type": "markdown",
      "metadata": {
        "id": "1is5JbhhaNNB",
        "colab_type": "text"
      },
      "source": [
        "\n",
        "\n",
        "```\n",
        "# This is formatted as code\n",
        "```\n",
        "\n",
        "I was wondering if everything has 0 for min."
      ]
    },
    {
      "cell_type": "code",
      "metadata": {
        "id": "b_EbkG1vYitd",
        "colab_type": "code",
        "outputId": "4c38997b-f450-4ad2-db9f-2a6ad9bd92b6",
        "colab": {
          "base_uri": "https://localhost:8080/",
          "height": 147
        }
      },
      "source": [
        "for j,i in enumerate(MaxMin['Min']):\n",
        "  if i !=0:\n",
        "    print ('{} has {} for min'.format(MaxMin['neighborhood'][j],i))"
      ],
      "execution_count": 0,
      "outputs": [
        {
          "output_type": "stream",
          "text": [
            "Filothei-Psychiko has 1 for min\n",
            "Nea Smyrni has 3 for min\n",
            "Nikaia-Agios Ioannis Rentis has 2 for min\n",
            "Papagou-Cholargos has 2 for min\n",
            "Perama has 2 for min\n",
            "Petroupoli has 1 for min\n",
            "Vyronas has 1 for min\n"
          ],
          "name": "stdout"
        }
      ]
    },
    {
      "cell_type": "code",
      "metadata": {
        "id": "K2Yq6-kDafqH",
        "colab_type": "code",
        "colab": {}
      },
      "source": [
        "def GiveMaxMin(c,n): \n",
        "  for i in MaxMin[MaxMin['neighborhood']==n][c]:\n",
        "    return(i)"
      ],
      "execution_count": 0,
      "outputs": []
    },
    {
      "cell_type": "code",
      "metadata": {
        "id": "vJa5__p9ZrPG",
        "colab_type": "code",
        "outputId": "8c226d98-6f12-4863-ee17-cf5f7e037604",
        "colab": {
          "base_uri": "https://localhost:8080/",
          "height": 143
        }
      },
      "source": [
        "# Passing it in df\n",
        "df['max']=[GiveMaxMin('Max',df['neighborhood'][i]) for i in range(df.shape[0])]\n",
        "df['min']=[GiveMaxMin('Min',df['neighborhood'][i]) for i in range(df.shape[0])]\n",
        "df['mean']=[GiveMaxMin('Mean',df['neighborhood'][i]) for i in range(df.shape[0])]\n",
        "\n",
        "df['rating']=df['likes']/df['mean']\n",
        "#df['rating']=[df['likes'][i]/(df['max'][i]-df['min'][i]) for i in range(df.shape[0])]\n",
        "df.head(3)"
      ],
      "execution_count": 0,
      "outputs": [
        {
          "output_type": "execute_result",
          "data": {
            "text/html": [
              "<div>\n",
              "<style scoped>\n",
              "    .dataframe tbody tr th:only-of-type {\n",
              "        vertical-align: middle;\n",
              "    }\n",
              "\n",
              "    .dataframe tbody tr th {\n",
              "        vertical-align: top;\n",
              "    }\n",
              "\n",
              "    .dataframe thead th {\n",
              "        text-align: right;\n",
              "    }\n",
              "</style>\n",
              "<table border=\"1\" class=\"dataframe\">\n",
              "  <thead>\n",
              "    <tr style=\"text-align: right;\">\n",
              "      <th></th>\n",
              "      <th>id</th>\n",
              "      <th>name</th>\n",
              "      <th>neighborhood</th>\n",
              "      <th>number</th>\n",
              "      <th>average</th>\n",
              "      <th>likes</th>\n",
              "      <th>max</th>\n",
              "      <th>min</th>\n",
              "      <th>rating</th>\n",
              "      <th>mean</th>\n",
              "    </tr>\n",
              "  </thead>\n",
              "  <tbody>\n",
              "    <tr>\n",
              "      <th>0</th>\n",
              "      <td>513b7cfbe4b0334da3ca912f</td>\n",
              "      <td>Ethno Cafe</td>\n",
              "      <td>Agia Paraskevi</td>\n",
              "      <td>0</td>\n",
              "      <td>NaN</td>\n",
              "      <td>17</td>\n",
              "      <td>166</td>\n",
              "      <td>0</td>\n",
              "      <td>0.481246</td>\n",
              "      <td>35.325</td>\n",
              "    </tr>\n",
              "    <tr>\n",
              "      <th>1</th>\n",
              "      <td>4bddd6bf0ee3a593d7da2eb0</td>\n",
              "      <td>Posto Γωνιά</td>\n",
              "      <td>Agia Paraskevi</td>\n",
              "      <td>2</td>\n",
              "      <td>57.5</td>\n",
              "      <td>29</td>\n",
              "      <td>166</td>\n",
              "      <td>0</td>\n",
              "      <td>0.820948</td>\n",
              "      <td>35.325</td>\n",
              "    </tr>\n",
              "    <tr>\n",
              "      <th>2</th>\n",
              "      <td>528d1c7511d2543b73dcb571</td>\n",
              "      <td>Lola</td>\n",
              "      <td>Agia Paraskevi</td>\n",
              "      <td>1</td>\n",
              "      <td>29</td>\n",
              "      <td>95</td>\n",
              "      <td>166</td>\n",
              "      <td>0</td>\n",
              "      <td>2.689314</td>\n",
              "      <td>35.325</td>\n",
              "    </tr>\n",
              "  </tbody>\n",
              "</table>\n",
              "</div>"
            ],
            "text/plain": [
              "                         id         name    neighborhood  ...  min    rating    mean\n",
              "0  513b7cfbe4b0334da3ca912f   Ethno Cafe  Agia Paraskevi  ...    0  0.481246  35.325\n",
              "1  4bddd6bf0ee3a593d7da2eb0  Posto Γωνιά  Agia Paraskevi  ...    0  0.820948  35.325\n",
              "2  528d1c7511d2543b73dcb571         Lola  Agia Paraskevi  ...    0  2.689314  35.325\n",
              "\n",
              "[3 rows x 10 columns]"
            ]
          },
          "metadata": {
            "tags": []
          },
          "execution_count": 179
        }
      ]
    },
    {
      "cell_type": "markdown",
      "metadata": {
        "id": "hG2GSATjcppp",
        "colab_type": "text"
      },
      "source": [
        "## Re check our boxplot"
      ]
    },
    {
      "cell_type": "code",
      "metadata": {
        "id": "8tV_jl1jc5Z-",
        "colab_type": "code",
        "outputId": "b94d40ad-e2f5-4660-de61-071b10f353ac",
        "colab": {
          "base_uri": "https://localhost:8080/",
          "height": 240
        }
      },
      "source": [
        "for j,i in enumerate(df['rating']):\n",
        "  if i>1:\n",
        "    print('{} is {}'.format(j,i))\n"
      ],
      "execution_count": 0,
      "outputs": [
        {
          "output_type": "stream",
          "text": [
            "663 is 1.00990099009901\n",
            "664 is 1.00990099009901\n",
            "885 is 1.125\n",
            "1054 is 1.5\n",
            "1133 is inf\n",
            "1139 is 1.065217391304348\n",
            "1157 is 1.0285714285714285\n",
            "1158 is 1.0571428571428572\n",
            "1195 is 1.0166666666666666\n",
            "1312 is 1.0714285714285714\n",
            "1350 is 1.0125\n",
            "1401 is 1.0063291139240507\n"
          ],
          "name": "stdout"
        }
      ]
    },
    {
      "cell_type": "markdown",
      "metadata": {
        "id": "PcDel1ggeGF9",
        "colab_type": "text"
      },
      "source": [
        "It is ok to be above 1, the problem is the one with inf at line 1133. This happens because there is only one cafe in that neighborhood. I will remove any neighborhood with less than 5 cafes. Using a pivot table at excel those neighborhoods are the following."
      ]
    },
    {
      "cell_type": "code",
      "metadata": {
        "id": "o_NV02NAdUOO",
        "colab_type": "code",
        "colab": {}
      },
      "source": [
        "df=df[df['neighborhood']!='Irakleio']\n",
        "df=df[df['neighborhood']!='Korydallos']\n",
        "df=df[df['neighborhood']!='Nea Ionia']\n",
        "df.reset_index(drop=False,inplace=True)\n",
        "del df['index']"
      ],
      "execution_count": 0,
      "outputs": []
    },
    {
      "cell_type": "code",
      "metadata": {
        "id": "jlpNkpeegH2k",
        "colab_type": "code",
        "outputId": "5279d000-8046-4c64-8e2d-d30c6d68c8d8",
        "colab": {
          "base_uri": "https://localhost:8080/",
          "height": 269
        }
      },
      "source": [
        "plt.boxplot(df['rating']);"
      ],
      "execution_count": 0,
      "outputs": [
        {
          "output_type": "display_data",
          "data": {
            "image/png": "[encoded data removed]",
            "text/plain": [
              "<Figure size 432x288 with 1 Axes>"
            ]
          },
          "metadata": {
            "tags": []
          }
        }
      ]
    },
    {
      "cell_type": "markdown",
      "metadata": {
        "id": "jw8Kt4CCgpiF",
        "colab_type": "text"
      },
      "source": [
        "## Group By number of Competitors"
      ]
    },
    {
      "cell_type": "code",
      "metadata": {
        "id": "1RyBIP0dghN3",
        "colab_type": "code",
        "outputId": "84ad9ea9-613f-4b27-a789-018794d6647c",
        "colab": {
          "base_uri": "https://localhost:8080/",
          "height": 457
        }
      },
      "source": [
        "number=pd.DataFrame()\n",
        "number['Average Rating']=[i for i in df.groupby('number')['rating'].mean()]\n",
        "number['count']=[i for i in df.groupby('number')['id'].count()]\n",
        "number"
      ],
      "execution_count": 0,
      "outputs": [
        {
          "output_type": "execute_result",
          "data": {
            "text/html": [
              "<div>\n",
              "<style scoped>\n",
              "    .dataframe tbody tr th:only-of-type {\n",
              "        vertical-align: middle;\n",
              "    }\n",
              "\n",
              "    .dataframe tbody tr th {\n",
              "        vertical-align: top;\n",
              "    }\n",
              "\n",
              "    .dataframe thead th {\n",
              "        text-align: right;\n",
              "    }\n",
              "</style>\n",
              "<table border=\"1\" class=\"dataframe\">\n",
              "  <thead>\n",
              "    <tr style=\"text-align: right;\">\n",
              "      <th></th>\n",
              "      <th>Average Rating</th>\n",
              "      <th>count</th>\n",
              "    </tr>\n",
              "  </thead>\n",
              "  <tbody>\n",
              "    <tr>\n",
              "      <th>0</th>\n",
              "      <td>0.934004</td>\n",
              "      <td>757</td>\n",
              "    </tr>\n",
              "    <tr>\n",
              "      <th>1</th>\n",
              "      <td>0.951363</td>\n",
              "      <td>345</td>\n",
              "    </tr>\n",
              "    <tr>\n",
              "      <th>2</th>\n",
              "      <td>1.023627</td>\n",
              "      <td>152</td>\n",
              "    </tr>\n",
              "    <tr>\n",
              "      <th>3</th>\n",
              "      <td>1.223987</td>\n",
              "      <td>106</td>\n",
              "    </tr>\n",
              "    <tr>\n",
              "      <th>4</th>\n",
              "      <td>1.175804</td>\n",
              "      <td>80</td>\n",
              "    </tr>\n",
              "    <tr>\n",
              "      <th>5</th>\n",
              "      <td>1.071934</td>\n",
              "      <td>37</td>\n",
              "    </tr>\n",
              "    <tr>\n",
              "      <th>6</th>\n",
              "      <td>1.452498</td>\n",
              "      <td>19</td>\n",
              "    </tr>\n",
              "    <tr>\n",
              "      <th>7</th>\n",
              "      <td>1.593510</td>\n",
              "      <td>9</td>\n",
              "    </tr>\n",
              "    <tr>\n",
              "      <th>8</th>\n",
              "      <td>1.802762</td>\n",
              "      <td>6</td>\n",
              "    </tr>\n",
              "    <tr>\n",
              "      <th>9</th>\n",
              "      <td>0.478835</td>\n",
              "      <td>2</td>\n",
              "    </tr>\n",
              "    <tr>\n",
              "      <th>10</th>\n",
              "      <td>0.130367</td>\n",
              "      <td>1</td>\n",
              "    </tr>\n",
              "    <tr>\n",
              "      <th>11</th>\n",
              "      <td>1.383378</td>\n",
              "      <td>5</td>\n",
              "    </tr>\n",
              "    <tr>\n",
              "      <th>12</th>\n",
              "      <td>4.918677</td>\n",
              "      <td>1</td>\n",
              "    </tr>\n",
              "  </tbody>\n",
              "</table>\n",
              "</div>"
            ],
            "text/plain": [
              "    Average Rating  count\n",
              "0         0.934004    757\n",
              "1         0.951363    345\n",
              "2         1.023627    152\n",
              "3         1.223987    106\n",
              "4         1.175804     80\n",
              "5         1.071934     37\n",
              "6         1.452498     19\n",
              "7         1.593510      9\n",
              "8         1.802762      6\n",
              "9         0.478835      2\n",
              "10        0.130367      1\n",
              "11        1.383378      5\n",
              "12        4.918677      1"
            ]
          },
          "metadata": {
            "tags": []
          },
          "execution_count": 182
        }
      ]
    }
  ]
}